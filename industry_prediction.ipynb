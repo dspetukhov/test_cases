{
 "cells": [
  {
   "cell_type": "markdown",
   "metadata": {
    "ExecuteTime": {
     "end_time": "2019-11-26T07:00:31.045130Z",
     "start_time": "2019-11-26T07:00:31.038748Z"
    }
   },
   "source": [
    "# Python\n",
    "\n",
    "**Напишите на Python генератор первых *n* чисел Фибоначчи**"
   ]
  },
  {
   "cell_type": "code",
   "execution_count": 1,
   "metadata": {
    "ExecuteTime": {
     "end_time": "2019-11-28T15:08:23.861119Z",
     "start_time": "2019-11-28T15:08:23.855033Z"
    }
   },
   "outputs": [],
   "source": [
    "def fibonacci_generator(n):\n",
    "    for i in range(n):\n",
    "        if i == 0:\n",
    "            a, b = 0, 1\n",
    "        else:\n",
    "            b, a = b + a, b\n",
    "\n",
    "        yield b"
   ]
  },
  {
   "cell_type": "code",
   "execution_count": 2,
   "metadata": {
    "ExecuteTime": {
     "end_time": "2019-11-28T15:08:23.949848Z",
     "start_time": "2019-11-28T15:08:23.863006Z"
    }
   },
   "outputs": [
    {
     "name": "stdout",
     "output_type": "stream",
     "text": [
      "1\t1\t2\t3\t5\t8\t13\t21\t34\t55\t"
     ]
    }
   ],
   "source": [
    "n = 10\n",
    "\n",
    "for num in fibonacci_generator(n):\n",
    "    print(num, end='\\t')"
   ]
  },
  {
   "cell_type": "markdown",
   "metadata": {},
   "source": [
    "# SQL"
   ]
  },
  {
   "cell_type": "code",
   "execution_count": null,
   "metadata": {},
   "outputs": [],
   "source": [
    "# Проверить корректность решения можно на http://sqlfiddle.com\n",
    "\n",
    "create table department (id int, name varchar(30));\n",
    "\n",
    "insert into department (id, name) values (1, 'Финансы');\n",
    "insert into department (id, name) values (2, 'Риски');\n",
    "insert into department (id, name) values (3, 'Розница');\n",
    "insert into department (id, name) values (4, 'Безопасность');\n",
    "insert into department (id, name) values (1000, 'ДКК');\n",
    "\n",
    "create table personal (id int, id_head int, id_dep int, name varchar(30), sal int);\n",
    "\n",
    "insert into personal (id, id_head, id_dep, name, sal) values (1, 1, 2, 'Бегинс', 45000);\n",
    "insert into personal (id, id_head, id_dep, name, sal) values (2, 1, 2, 'Поттер', 80000);\n",
    "insert into personal (id, id_head, id_dep, name, sal) values (3, 2, 2, 'Чапаев', 100000);\n",
    "insert into personal (id, id_head, id_dep, name, sal) values (4, 4, 4, 'Шилов', 65000);\n",
    "insert into personal (id, id_head, id_dep, name, sal) values (1000, 5, 3, 'Наумов', 64500);"
   ]
  },
  {
   "cell_type": "markdown",
   "metadata": {},
   "source": [
    "**а) Вывести отдел с наибольшим числом сотрудников**"
   ]
  },
  {
   "cell_type": "code",
   "execution_count": null,
   "metadata": {},
   "outputs": [],
   "source": [
    "select name from department join (\n",
    "  select id_dep, count(*) as count from personal group by id_dep order by count desc limit 1\n",
    ") as t on department.id = t.id_dep"
   ]
  },
  {
   "cell_type": "markdown",
   "metadata": {},
   "source": [
    "**б) Вывести список сотрудников, получающих заработную плату выше, чем у руководителя**"
   ]
  },
  {
   "cell_type": "code",
   "execution_count": null,
   "metadata": {},
   "outputs": [],
   "source": [
    "select id, personal.id_head, id_dep, name, personal.sal from personal left join (\n",
    "  select id_head, sal from personal where personal.id = personal.id_head\n",
    ") as t on personal.id_head = t.id_head where personal.sal > t.sal"
   ]
  },
  {
   "cell_type": "markdown",
   "metadata": {},
   "source": [
    "# Определение отрасли компании"
   ]
  },
  {
   "cell_type": "markdown",
   "metadata": {},
   "source": [
    "## Загрузка и подготовка данных"
   ]
  },
  {
   "cell_type": "code",
   "execution_count": 1,
   "metadata": {
    "ExecuteTime": {
     "end_time": "2019-12-01T09:51:12.644116Z",
     "start_time": "2019-12-01T09:51:11.310914Z"
    }
   },
   "outputs": [],
   "source": [
    "import numpy as np\n",
    "import pandas as pd\n",
    "pd.set_option('display.max_columns', 300)\n",
    "pd.set_option('display.max_rows', 300)\n",
    "import matplotlib.pyplot as plt\n",
    "plt.style.use('seaborn')\n",
    "from matplotlib import cm as cmap\n",
    "import seaborn as sns\n",
    "from scipy import stats\n",
    "from sklearn import model_selection, preprocessing, metrics\n",
    "from sklearn import neighbors, naive_bayes, linear_model, ensemble, svm, neural_network, gaussian_process\n",
    "from lightgbm import LGBMClassifier\n",
    "import joblib"
   ]
  },
  {
   "cell_type": "code",
   "execution_count": 25,
   "metadata": {
    "ExecuteTime": {
     "end_time": "2019-12-01T08:19:57.498136Z",
     "start_time": "2019-12-01T08:19:57.494707Z"
    }
   },
   "outputs": [],
   "source": [
    "plt.rcParams['figure.figsize'] = 10, 5\n",
    "plt.rcParams['font.size'] = 10"
   ]
  },
  {
   "cell_type": "code",
   "execution_count": 43,
   "metadata": {
    "ExecuteTime": {
     "end_time": "2019-12-01T11:13:15.373273Z",
     "start_time": "2019-12-01T11:13:13.715938Z"
    }
   },
   "outputs": [
    {
     "data": {
      "text/html": [
       "<div>\n",
       "<style scoped>\n",
       "    .dataframe tbody tr th:only-of-type {\n",
       "        vertical-align: middle;\n",
       "    }\n",
       "\n",
       "    .dataframe tbody tr th {\n",
       "        vertical-align: top;\n",
       "    }\n",
       "\n",
       "    .dataframe thead th {\n",
       "        text-align: right;\n",
       "    }\n",
       "</style>\n",
       "<table border=\"1\" class=\"dataframe\">\n",
       "  <thead>\n",
       "    <tr style=\"text-align: right;\">\n",
       "      <th></th>\n",
       "      <th>hash_inn_kt</th>\n",
       "      <th>hash_inn_dt</th>\n",
       "      <th>week</th>\n",
       "      <th>count</th>\n",
       "      <th>sum</th>\n",
       "    </tr>\n",
       "  </thead>\n",
       "  <tbody>\n",
       "    <tr>\n",
       "      <td>0</td>\n",
       "      <td>0</td>\n",
       "      <td>0</td>\n",
       "      <td>1</td>\n",
       "      <td>4</td>\n",
       "      <td>38399.6</td>\n",
       "    </tr>\n",
       "    <tr>\n",
       "      <td>1</td>\n",
       "      <td>0</td>\n",
       "      <td>0</td>\n",
       "      <td>5</td>\n",
       "      <td>2</td>\n",
       "      <td>399.6</td>\n",
       "    </tr>\n",
       "    <tr>\n",
       "      <td>2</td>\n",
       "      <td>0</td>\n",
       "      <td>0</td>\n",
       "      <td>7</td>\n",
       "      <td>2</td>\n",
       "      <td>79.6</td>\n",
       "    </tr>\n",
       "    <tr>\n",
       "      <td>3</td>\n",
       "      <td>0</td>\n",
       "      <td>0</td>\n",
       "      <td>9</td>\n",
       "      <td>2</td>\n",
       "      <td>239.6</td>\n",
       "    </tr>\n",
       "    <tr>\n",
       "      <td>4</td>\n",
       "      <td>0</td>\n",
       "      <td>0</td>\n",
       "      <td>12</td>\n",
       "      <td>2</td>\n",
       "      <td>79.6</td>\n",
       "    </tr>\n",
       "  </tbody>\n",
       "</table>\n",
       "</div>"
      ],
      "text/plain": [
       "   hash_inn_kt  hash_inn_dt  week  count      sum\n",
       "0            0            0     1      4  38399.6\n",
       "1            0            0     5      2    399.6\n",
       "2            0            0     7      2     79.6\n",
       "3            0            0     9      2    239.6\n",
       "4            0            0    12      2     79.6"
      ]
     },
     "execution_count": 43,
     "metadata": {},
     "output_type": "execute_result"
    }
   ],
   "source": [
    "df_pays = pd.read_csv('pays.csv')\n",
    "df_pays.head()"
   ]
  },
  {
   "cell_type": "code",
   "execution_count": 44,
   "metadata": {
    "ExecuteTime": {
     "end_time": "2019-12-01T11:13:15.383247Z",
     "start_time": "2019-12-01T11:13:15.375428Z"
    }
   },
   "outputs": [
    {
     "name": "stdout",
     "output_type": "stream",
     "text": [
      "<class 'pandas.core.frame.DataFrame'>\n",
      "RangeIndex: 5430150 entries, 0 to 5430149\n",
      "Data columns (total 5 columns):\n",
      "hash_inn_kt    int64\n",
      "hash_inn_dt    int64\n",
      "week           int64\n",
      "count          int64\n",
      "sum            float64\n",
      "dtypes: float64(1), int64(4)\n",
      "memory usage: 207.1 MB\n"
     ]
    }
   ],
   "source": [
    "df_pays.info()"
   ]
  },
  {
   "cell_type": "code",
   "execution_count": 45,
   "metadata": {
    "ExecuteTime": {
     "end_time": "2019-12-01T11:13:15.625152Z",
     "start_time": "2019-12-01T11:13:15.519464Z"
    }
   },
   "outputs": [
    {
     "data": {
      "text/html": [
       "<div>\n",
       "<style scoped>\n",
       "    .dataframe tbody tr th:only-of-type {\n",
       "        vertical-align: middle;\n",
       "    }\n",
       "\n",
       "    .dataframe tbody tr th {\n",
       "        vertical-align: top;\n",
       "    }\n",
       "\n",
       "    .dataframe thead th {\n",
       "        text-align: right;\n",
       "    }\n",
       "</style>\n",
       "<table border=\"1\" class=\"dataframe\">\n",
       "  <thead>\n",
       "    <tr style=\"text-align: right;\">\n",
       "      <th></th>\n",
       "      <th>hash_inn</th>\n",
       "      <th>okved2</th>\n",
       "      <th>region</th>\n",
       "      <th>is_public</th>\n",
       "    </tr>\n",
       "  </thead>\n",
       "  <tbody>\n",
       "    <tr>\n",
       "      <td>0</td>\n",
       "      <td>61058</td>\n",
       "      <td>34</td>\n",
       "      <td>86</td>\n",
       "      <td>True</td>\n",
       "    </tr>\n",
       "    <tr>\n",
       "      <td>1</td>\n",
       "      <td>8311</td>\n",
       "      <td>18</td>\n",
       "      <td>86</td>\n",
       "      <td>True</td>\n",
       "    </tr>\n",
       "    <tr>\n",
       "      <td>2</td>\n",
       "      <td>130273</td>\n",
       "      <td>-1</td>\n",
       "      <td>86</td>\n",
       "      <td>False</td>\n",
       "    </tr>\n",
       "    <tr>\n",
       "      <td>3</td>\n",
       "      <td>64081</td>\n",
       "      <td>43</td>\n",
       "      <td>86</td>\n",
       "      <td>True</td>\n",
       "    </tr>\n",
       "    <tr>\n",
       "      <td>4</td>\n",
       "      <td>218005</td>\n",
       "      <td>12</td>\n",
       "      <td>86</td>\n",
       "      <td>True</td>\n",
       "    </tr>\n",
       "  </tbody>\n",
       "</table>\n",
       "</div>"
      ],
      "text/plain": [
       "   hash_inn  okved2  region  is_public\n",
       "0     61058      34      86       True\n",
       "1      8311      18      86       True\n",
       "2    130273      -1      86      False\n",
       "3     64081      43      86       True\n",
       "4    218005      12      86       True"
      ]
     },
     "execution_count": 45,
     "metadata": {},
     "output_type": "execute_result"
    }
   ],
   "source": [
    "df_inn = pd.read_csv('inn_info_public.csv')\n",
    "df_inn.head()"
   ]
  },
  {
   "cell_type": "code",
   "execution_count": 46,
   "metadata": {
    "ExecuteTime": {
     "end_time": "2019-12-01T11:13:16.464603Z",
     "start_time": "2019-12-01T11:13:16.451153Z"
    }
   },
   "outputs": [
    {
     "name": "stdout",
     "output_type": "stream",
     "text": [
      "<class 'pandas.core.frame.DataFrame'>\n",
      "RangeIndex: 240069 entries, 0 to 240068\n",
      "Data columns (total 4 columns):\n",
      "hash_inn     240069 non-null int64\n",
      "okved2       240069 non-null int64\n",
      "region       240069 non-null int64\n",
      "is_public    240069 non-null bool\n",
      "dtypes: bool(1), int64(3)\n",
      "memory usage: 5.7 MB\n"
     ]
    }
   ],
   "source": [
    "df_inn.info()"
   ]
  },
  {
   "cell_type": "code",
   "execution_count": 47,
   "metadata": {
    "ExecuteTime": {
     "end_time": "2019-12-01T11:13:17.890500Z",
     "start_time": "2019-12-01T11:13:17.877590Z"
    }
   },
   "outputs": [],
   "source": [
    "all_uniq_hash_prediction = df_inn[df_inn.okved2 == -1].hash_inn.unique()"
   ]
  },
  {
   "cell_type": "code",
   "execution_count": 48,
   "metadata": {
    "ExecuteTime": {
     "end_time": "2019-12-01T11:13:19.247829Z",
     "start_time": "2019-12-01T11:13:19.242266Z"
    }
   },
   "outputs": [
    {
     "data": {
      "text/plain": [
       "(78654,)"
      ]
     },
     "execution_count": 48,
     "metadata": {},
     "output_type": "execute_result"
    }
   ],
   "source": [
    "all_uniq_hash_prediction.shape"
   ]
  },
  {
   "cell_type": "markdown",
   "metadata": {},
   "source": [
    "**Количество уникальных ИНН, для которых нужно сделать предсказание, составляет 78 с половиной тысяч**"
   ]
  },
  {
   "cell_type": "markdown",
   "metadata": {},
   "source": [
    "### Таблица для анализа, обучающая выборка"
   ]
  },
  {
   "cell_type": "code",
   "execution_count": 57,
   "metadata": {
    "ExecuteTime": {
     "end_time": "2019-12-01T11:15:57.801160Z",
     "start_time": "2019-12-01T11:15:57.358284Z"
    }
   },
   "outputs": [
    {
     "data": {
      "text/html": [
       "<div>\n",
       "<style scoped>\n",
       "    .dataframe tbody tr th:only-of-type {\n",
       "        vertical-align: middle;\n",
       "    }\n",
       "\n",
       "    .dataframe tbody tr th {\n",
       "        vertical-align: top;\n",
       "    }\n",
       "\n",
       "    .dataframe thead th {\n",
       "        text-align: right;\n",
       "    }\n",
       "</style>\n",
       "<table border=\"1\" class=\"dataframe\">\n",
       "  <thead>\n",
       "    <tr style=\"text-align: right;\">\n",
       "      <th></th>\n",
       "      <th>hash_inn_kt</th>\n",
       "      <th>hash_inn_dt</th>\n",
       "      <th>week</th>\n",
       "      <th>count</th>\n",
       "      <th>sum</th>\n",
       "      <th>hash_inn</th>\n",
       "      <th>okved2</th>\n",
       "      <th>region</th>\n",
       "      <th>is_public</th>\n",
       "    </tr>\n",
       "  </thead>\n",
       "  <tbody>\n",
       "    <tr>\n",
       "      <td>0</td>\n",
       "      <td>0</td>\n",
       "      <td>0</td>\n",
       "      <td>1</td>\n",
       "      <td>4</td>\n",
       "      <td>38399.6</td>\n",
       "      <td>0</td>\n",
       "      <td>-1</td>\n",
       "      <td>84</td>\n",
       "      <td>False</td>\n",
       "    </tr>\n",
       "    <tr>\n",
       "      <td>1</td>\n",
       "      <td>0</td>\n",
       "      <td>0</td>\n",
       "      <td>5</td>\n",
       "      <td>2</td>\n",
       "      <td>399.6</td>\n",
       "      <td>0</td>\n",
       "      <td>-1</td>\n",
       "      <td>84</td>\n",
       "      <td>False</td>\n",
       "    </tr>\n",
       "    <tr>\n",
       "      <td>2</td>\n",
       "      <td>0</td>\n",
       "      <td>0</td>\n",
       "      <td>7</td>\n",
       "      <td>2</td>\n",
       "      <td>79.6</td>\n",
       "      <td>0</td>\n",
       "      <td>-1</td>\n",
       "      <td>84</td>\n",
       "      <td>False</td>\n",
       "    </tr>\n",
       "    <tr>\n",
       "      <td>3</td>\n",
       "      <td>0</td>\n",
       "      <td>0</td>\n",
       "      <td>9</td>\n",
       "      <td>2</td>\n",
       "      <td>239.6</td>\n",
       "      <td>0</td>\n",
       "      <td>-1</td>\n",
       "      <td>84</td>\n",
       "      <td>False</td>\n",
       "    </tr>\n",
       "    <tr>\n",
       "      <td>4</td>\n",
       "      <td>0</td>\n",
       "      <td>0</td>\n",
       "      <td>12</td>\n",
       "      <td>2</td>\n",
       "      <td>79.6</td>\n",
       "      <td>0</td>\n",
       "      <td>-1</td>\n",
       "      <td>84</td>\n",
       "      <td>False</td>\n",
       "    </tr>\n",
       "  </tbody>\n",
       "</table>\n",
       "</div>"
      ],
      "text/plain": [
       "   hash_inn_kt  hash_inn_dt  week  count      sum  hash_inn  okved2  region  \\\n",
       "0            0            0     1      4  38399.6         0      -1      84   \n",
       "1            0            0     5      2    399.6         0      -1      84   \n",
       "2            0            0     7      2     79.6         0      -1      84   \n",
       "3            0            0     9      2    239.6         0      -1      84   \n",
       "4            0            0    12      2     79.6         0      -1      84   \n",
       "\n",
       "   is_public  \n",
       "0      False  \n",
       "1      False  \n",
       "2      False  \n",
       "3      False  \n",
       "4      False  "
      ]
     },
     "execution_count": 57,
     "metadata": {},
     "output_type": "execute_result"
    }
   ],
   "source": [
    "# в качестве столбца для соединения таблиц возьмем обезличенный ИНН отправителя в таблице pays\n",
    "# скорее всего именно он соответствует полю ИНН в таблице inn_info\n",
    "df = pd.merge(left=df_pays, right=df_inn, left_on='hash_inn_kt', right_on='hash_inn', how='inner')\n",
    "df.head()"
   ]
  },
  {
   "cell_type": "code",
   "execution_count": 58,
   "metadata": {
    "ExecuteTime": {
     "end_time": "2019-12-01T11:15:59.148465Z",
     "start_time": "2019-12-01T11:15:59.143645Z"
    }
   },
   "outputs": [
    {
     "data": {
      "text/plain": [
       "(5430150, 9)"
      ]
     },
     "execution_count": 58,
     "metadata": {},
     "output_type": "execute_result"
    }
   ],
   "source": [
    "df.shape"
   ]
  },
  {
   "cell_type": "markdown",
   "metadata": {},
   "source": [
    "**В столбце `sum` встречается 1125 пропущенных значений. Заполним их средним значением по столбцу**"
   ]
  },
  {
   "cell_type": "code",
   "execution_count": 59,
   "metadata": {
    "ExecuteTime": {
     "end_time": "2019-12-01T11:16:25.138928Z",
     "start_time": "2019-12-01T11:16:24.983309Z"
    }
   },
   "outputs": [
    {
     "data": {
      "text/plain": [
       "(1125, 9)"
      ]
     },
     "execution_count": 59,
     "metadata": {},
     "output_type": "execute_result"
    }
   ],
   "source": [
    "df[df['sum'].isna()].shape"
   ]
  },
  {
   "cell_type": "code",
   "execution_count": 60,
   "metadata": {
    "ExecuteTime": {
     "end_time": "2019-12-01T11:16:26.350050Z",
     "start_time": "2019-12-01T11:16:26.300266Z"
    }
   },
   "outputs": [],
   "source": [
    "df['sum'].fillna(df['sum'].mean(), inplace=True)"
   ]
  },
  {
   "cell_type": "code",
   "execution_count": 61,
   "metadata": {
    "ExecuteTime": {
     "end_time": "2019-12-01T11:16:28.002056Z",
     "start_time": "2019-12-01T11:16:27.994599Z"
    }
   },
   "outputs": [
    {
     "name": "stdout",
     "output_type": "stream",
     "text": [
      "<class 'pandas.core.frame.DataFrame'>\n",
      "Int64Index: 5430150 entries, 0 to 5430149\n",
      "Data columns (total 9 columns):\n",
      "hash_inn_kt    int64\n",
      "hash_inn_dt    int64\n",
      "week           int64\n",
      "count          int64\n",
      "sum            float64\n",
      "hash_inn       int64\n",
      "okved2         int64\n",
      "region         int64\n",
      "is_public      bool\n",
      "dtypes: bool(1), float64(1), int64(7)\n",
      "memory usage: 378.0 MB\n"
     ]
    }
   ],
   "source": [
    "df.info()"
   ]
  },
  {
   "cell_type": "code",
   "execution_count": 62,
   "metadata": {
    "ExecuteTime": {
     "end_time": "2019-12-01T11:16:36.813878Z",
     "start_time": "2019-12-01T11:16:36.639491Z"
    }
   },
   "outputs": [
    {
     "data": {
      "text/html": [
       "<div>\n",
       "<style scoped>\n",
       "    .dataframe tbody tr th:only-of-type {\n",
       "        vertical-align: middle;\n",
       "    }\n",
       "\n",
       "    .dataframe tbody tr th {\n",
       "        vertical-align: top;\n",
       "    }\n",
       "\n",
       "    .dataframe thead th {\n",
       "        text-align: right;\n",
       "    }\n",
       "</style>\n",
       "<table border=\"1\" class=\"dataframe\">\n",
       "  <thead>\n",
       "    <tr style=\"text-align: right;\">\n",
       "      <th></th>\n",
       "      <th>hash_inn_kt</th>\n",
       "      <th>hash_inn_dt</th>\n",
       "      <th>week</th>\n",
       "      <th>count</th>\n",
       "      <th>sum</th>\n",
       "      <th>hash_inn</th>\n",
       "      <th>okved2</th>\n",
       "      <th>region</th>\n",
       "      <th>is_public</th>\n",
       "    </tr>\n",
       "  </thead>\n",
       "  <tbody>\n",
       "    <tr>\n",
       "      <td>85</td>\n",
       "      <td>1</td>\n",
       "      <td>31310</td>\n",
       "      <td>5</td>\n",
       "      <td>2</td>\n",
       "      <td>12.4</td>\n",
       "      <td>1</td>\n",
       "      <td>62</td>\n",
       "      <td>26</td>\n",
       "      <td>True</td>\n",
       "    </tr>\n",
       "    <tr>\n",
       "      <td>86</td>\n",
       "      <td>1</td>\n",
       "      <td>31310</td>\n",
       "      <td>6</td>\n",
       "      <td>2</td>\n",
       "      <td>12.4</td>\n",
       "      <td>1</td>\n",
       "      <td>62</td>\n",
       "      <td>26</td>\n",
       "      <td>True</td>\n",
       "    </tr>\n",
       "    <tr>\n",
       "      <td>87</td>\n",
       "      <td>1</td>\n",
       "      <td>31310</td>\n",
       "      <td>8</td>\n",
       "      <td>2</td>\n",
       "      <td>12.4</td>\n",
       "      <td>1</td>\n",
       "      <td>62</td>\n",
       "      <td>26</td>\n",
       "      <td>True</td>\n",
       "    </tr>\n",
       "    <tr>\n",
       "      <td>88</td>\n",
       "      <td>1</td>\n",
       "      <td>31310</td>\n",
       "      <td>9</td>\n",
       "      <td>2</td>\n",
       "      <td>25.2</td>\n",
       "      <td>1</td>\n",
       "      <td>62</td>\n",
       "      <td>26</td>\n",
       "      <td>True</td>\n",
       "    </tr>\n",
       "    <tr>\n",
       "      <td>89</td>\n",
       "      <td>1</td>\n",
       "      <td>31310</td>\n",
       "      <td>11</td>\n",
       "      <td>2</td>\n",
       "      <td>25.2</td>\n",
       "      <td>1</td>\n",
       "      <td>62</td>\n",
       "      <td>26</td>\n",
       "      <td>True</td>\n",
       "    </tr>\n",
       "  </tbody>\n",
       "</table>\n",
       "</div>"
      ],
      "text/plain": [
       "    hash_inn_kt  hash_inn_dt  week  count   sum  hash_inn  okved2  region  \\\n",
       "85            1        31310     5      2  12.4         1      62      26   \n",
       "86            1        31310     6      2  12.4         1      62      26   \n",
       "87            1        31310     8      2  12.4         1      62      26   \n",
       "88            1        31310     9      2  25.2         1      62      26   \n",
       "89            1        31310    11      2  25.2         1      62      26   \n",
       "\n",
       "    is_public  \n",
       "85       True  \n",
       "86       True  \n",
       "87       True  \n",
       "88       True  \n",
       "89       True  "
      ]
     },
     "execution_count": 62,
     "metadata": {},
     "output_type": "execute_result"
    }
   ],
   "source": [
    "df_train = df[df.okved2 != -1]\n",
    "df_train.head()"
   ]
  },
  {
   "cell_type": "code",
   "execution_count": 63,
   "metadata": {
    "ExecuteTime": {
     "end_time": "2019-12-01T11:16:38.080166Z",
     "start_time": "2019-12-01T11:16:38.075622Z"
    }
   },
   "outputs": [
    {
     "data": {
      "text/plain": [
       "(3718501, 9)"
      ]
     },
     "execution_count": 63,
     "metadata": {},
     "output_type": "execute_result"
    }
   ],
   "source": [
    "df_train.shape"
   ]
  },
  {
   "cell_type": "code",
   "execution_count": 64,
   "metadata": {
    "ExecuteTime": {
     "end_time": "2019-12-01T11:16:39.977982Z",
     "start_time": "2019-12-01T11:16:39.943227Z"
    }
   },
   "outputs": [
    {
     "data": {
      "text/plain": [
       "True    3718501\n",
       "Name: is_public, dtype: int64"
      ]
     },
     "execution_count": 64,
     "metadata": {},
     "output_type": "execute_result"
    }
   ],
   "source": [
    "df_train.is_public.value_counts()"
   ]
  },
  {
   "cell_type": "markdown",
   "metadata": {},
   "source": [
    "**Все значения признака `is_public` равны True. Исключаем его из таблицы**"
   ]
  },
  {
   "cell_type": "code",
   "execution_count": 65,
   "metadata": {
    "ExecuteTime": {
     "end_time": "2019-12-01T11:16:41.965000Z",
     "start_time": "2019-12-01T11:16:41.898675Z"
    }
   },
   "outputs": [],
   "source": [
    "df_train = df_train.drop('is_public', axis=1)"
   ]
  },
  {
   "cell_type": "markdown",
   "metadata": {},
   "source": [
    "**Посмотрим на распределение классов**"
   ]
  },
  {
   "cell_type": "code",
   "execution_count": 99,
   "metadata": {
    "ExecuteTime": {
     "end_time": "2019-12-01T06:21:49.237097Z",
     "start_time": "2019-12-01T06:21:49.189584Z"
    }
   },
   "outputs": [
    {
     "data": {
      "text/plain": [
       "(80,)"
      ]
     },
     "execution_count": 99,
     "metadata": {},
     "output_type": "execute_result"
    }
   ],
   "source": [
    "# количество классов\n",
    "df_train.okved2.value_counts().shape"
   ]
  },
  {
   "cell_type": "code",
   "execution_count": 101,
   "metadata": {
    "ExecuteTime": {
     "end_time": "2019-12-01T06:21:59.502331Z",
     "start_time": "2019-12-01T06:21:58.747436Z"
    }
   },
   "outputs": [
    {
     "data": {
      "text/plain": [
       "Text(0, 0.5, 'Количество')"
      ]
     },
     "execution_count": 101,
     "metadata": {},
     "output_type": "execute_result"
    },
    {
     "data": {
      "image/png": "[encoded data removed]",
      "text/plain": [
       "<Figure size 720x360 with 1 Axes>"
      ]
     },
     "metadata": {},
     "output_type": "display_data"
    }
   ],
   "source": [
    "df_train.okved2.plot(kind='hist', bins=80)\n",
    "plt.title('Распределение по отраслям')\n",
    "plt.ylabel('Количество')"
   ]
  },
  {
   "cell_type": "code",
   "execution_count": 53,
   "metadata": {
    "ExecuteTime": {
     "end_time": "2019-12-01T06:02:39.949043Z",
     "start_time": "2019-12-01T06:02:39.896597Z"
    }
   },
   "outputs": [
    {
     "data": {
      "text/plain": [
       "12    1410735\n",
       "4      246685\n",
       "8      150451\n",
       "14     132930\n",
       "34     132862\n",
       "Name: okved2, dtype: int64"
      ]
     },
     "execution_count": 53,
     "metadata": {},
     "output_type": "execute_result"
    }
   ],
   "source": [
    "df_train.okved2.value_counts().head()"
   ]
  },
  {
   "cell_type": "code",
   "execution_count": 54,
   "metadata": {
    "ExecuteTime": {
     "end_time": "2019-12-01T06:02:41.397426Z",
     "start_time": "2019-12-01T06:02:41.345872Z"
    }
   },
   "outputs": [
    {
     "data": {
      "text/plain": [
       "51    516\n",
       "49    319\n",
       "1     289\n",
       "73    202\n",
       "66     31\n",
       "Name: okved2, dtype: int64"
      ]
     },
     "execution_count": 54,
     "metadata": {},
     "output_type": "execute_result"
    }
   ],
   "source": [
    "df_train.okved2.value_counts().tail()"
   ]
  },
  {
   "cell_type": "code",
   "execution_count": 55,
   "metadata": {
    "ExecuteTime": {
     "end_time": "2019-12-01T06:02:43.172695Z",
     "start_time": "2019-12-01T06:02:43.136823Z"
    }
   },
   "outputs": [
    {
     "data": {
      "text/plain": [
       "13388.0"
      ]
     },
     "execution_count": 55,
     "metadata": {},
     "output_type": "execute_result"
    }
   ],
   "source": [
    "np.median(df_train.okved2.value_counts().values)"
   ]
  },
  {
   "cell_type": "markdown",
   "metadata": {},
   "source": [
    "**Видим, что 12 и 4 класса гораздо больше остальных классов. В то же время классы 66 и 73 практически отсутствуют. Медиана количества наблюдений в классах составляет 13 тысяч** \n",
    "\n",
    "**Попробуем применить undersampling и oversampling, чтобы сбалансировать количество наблюдений в каждом классе для обучения моделей - там где количество наблюдений больше 13 тысяч более чем в 4 раза будем уменьшать количество до примерно 52 тысяч, там где количество наблюдений гораздо меньше 13 тысяч, будем увеличивать количество до примерно 3 тысяч**\n",
    "\n",
    "*Стоит отметить, что использование иного подхода к oversampling, такого как, например, SMOTE, неприемлемо, поскольку он будет интерпретировать категориальные признаки как числовые и это может привести к непредсказуемым результатам при обучении и дальнейшем предсказании номера отрасли*"
   ]
  },
  {
   "cell_type": "markdown",
   "metadata": {},
   "source": [
    "#### under- и oversampling"
   ]
  },
  {
   "cell_type": "code",
   "execution_count": 24,
   "metadata": {
    "ExecuteTime": {
     "end_time": "2019-11-28T15:08:32.201926Z",
     "start_time": "2019-11-28T15:08:31.622095Z"
    }
   },
   "outputs": [],
   "source": [
    "df_ = [] \n",
    "\n",
    "for i, j in df_train.okved2.value_counts().items():\n",
    "\n",
    "    if j > 52000:\n",
    "        n = np.random.randint(51500, 52500)\n",
    "        df_.append(df_train[df_train.okved2 == i].sample(n))\n",
    "        \n",
    "    elif j < 3000:\n",
    "        n = np.random.randint(3000, 3300)\n",
    "        df_.append(df_train[df_train.okved2 == i].sample(n, replace=True))\n",
    "\n",
    "    else:\n",
    "        df_.append(df_train[df_train.okved2 == i])"
   ]
  },
  {
   "cell_type": "code",
   "execution_count": null,
   "metadata": {},
   "outputs": [],
   "source": []
  },
  {
   "cell_type": "code",
   "execution_count": 25,
   "metadata": {
    "ExecuteTime": {
     "end_time": "2019-11-28T15:08:32.286219Z",
     "start_time": "2019-11-28T15:08:32.203298Z"
    }
   },
   "outputs": [],
   "source": [
    "df_train = pd.concat(df_, ignore_index=True)"
   ]
  },
  {
   "cell_type": "code",
   "execution_count": 66,
   "metadata": {
    "ExecuteTime": {
     "end_time": "2019-12-01T06:13:30.462463Z",
     "start_time": "2019-12-01T06:13:29.915511Z"
    }
   },
   "outputs": [
    {
     "data": {
      "text/plain": [
       "Text(0, 0.5, 'Количество')"
      ]
     },
     "execution_count": 66,
     "metadata": {},
     "output_type": "execute_result"
    },
    {
     "data": {
      "image/png": "[encoded data removed]",
      "text/plain": [
       "<Figure size 720x360 with 1 Axes>"
      ]
     },
     "metadata": {},
     "output_type": "display_data"
    }
   ],
   "source": [
    "df_train.okved2.plot(kind='hist', bins=80)\n",
    "plt.title('Распределение по отраслям')\n",
    "plt.ylabel('Количество')"
   ]
  },
  {
   "cell_type": "markdown",
   "metadata": {},
   "source": [
    "**Полученное распределение кажется более сбалансированным. Будем использовать его для обучения моделей**"
   ]
  },
  {
   "cell_type": "code",
   "execution_count": 60,
   "metadata": {
    "ExecuteTime": {
     "end_time": "2019-12-01T06:12:39.903787Z",
     "start_time": "2019-12-01T06:12:39.899101Z"
    }
   },
   "outputs": [
    {
     "data": {
      "text/plain": [
       "(1690866, 8)"
      ]
     },
     "execution_count": 60,
     "metadata": {},
     "output_type": "execute_result"
    }
   ],
   "source": [
    "df_train.shape"
   ]
  },
  {
   "cell_type": "code",
   "execution_count": 28,
   "metadata": {
    "ExecuteTime": {
     "end_time": "2019-11-28T15:09:03.440158Z",
     "start_time": "2019-11-28T15:08:51.949799Z"
    }
   },
   "outputs": [],
   "source": [
    "df_train.to_csv('training_set.csv', index=False)"
   ]
  },
  {
   "cell_type": "markdown",
   "metadata": {},
   "source": [
    "**Посмотрим на распределение по регионам в сформированной обучающей выборке**"
   ]
  },
  {
   "cell_type": "code",
   "execution_count": 80,
   "metadata": {
    "ExecuteTime": {
     "end_time": "2019-12-01T06:20:05.381861Z",
     "start_time": "2019-12-01T06:20:05.361993Z"
    }
   },
   "outputs": [
    {
     "data": {
      "text/plain": [
       "(87,)"
      ]
     },
     "execution_count": 80,
     "metadata": {},
     "output_type": "execute_result"
    }
   ],
   "source": [
    "# количество регионов\n",
    "df_train.region.value_counts().shape"
   ]
  },
  {
   "cell_type": "code",
   "execution_count": 81,
   "metadata": {
    "ExecuteTime": {
     "end_time": "2019-12-01T06:20:06.992039Z",
     "start_time": "2019-12-01T06:20:06.391243Z"
    }
   },
   "outputs": [
    {
     "data": {
      "text/plain": [
       "Text(0, 0.5, 'Количество')"
      ]
     },
     "execution_count": 81,
     "metadata": {},
     "output_type": "execute_result"
    },
    {
     "data": {
      "image/png": "[encoded data removed]",
      "text/plain": [
       "<Figure size 720x360 with 1 Axes>"
      ]
     },
     "metadata": {},
     "output_type": "display_data"
    }
   ],
   "source": [
    "df_train.region.plot(kind='hist', bins=87)\n",
    "plt.title('Распределение по регионам')\n",
    "plt.ylabel('Количество')"
   ]
  },
  {
   "cell_type": "markdown",
   "metadata": {},
   "source": [
    "**Отметим, что в основном все наблюдения из 84 и 85 регионов - наверное это Москва и Московская область**\n",
    "\n",
    "**Тем не менее в топ по количеству и сумме платежей в неделю находятся 59 и 67 регионы:**"
   ]
  },
  {
   "cell_type": "code",
   "execution_count": 106,
   "metadata": {
    "ExecuteTime": {
     "end_time": "2019-12-01T06:25:39.875035Z",
     "start_time": "2019-12-01T06:25:39.797592Z"
    }
   },
   "outputs": [
    {
     "data": {
      "text/html": [
       "<div>\n",
       "<style scoped>\n",
       "    .dataframe tbody tr th:only-of-type {\n",
       "        vertical-align: middle;\n",
       "    }\n",
       "\n",
       "    .dataframe tbody tr th {\n",
       "        vertical-align: top;\n",
       "    }\n",
       "\n",
       "    .dataframe thead th {\n",
       "        text-align: right;\n",
       "    }\n",
       "</style>\n",
       "<table border=\"1\" class=\"dataframe\">\n",
       "  <thead>\n",
       "    <tr style=\"text-align: right;\">\n",
       "      <th></th>\n",
       "      <th>count</th>\n",
       "    </tr>\n",
       "    <tr>\n",
       "      <th>region</th>\n",
       "      <th></th>\n",
       "    </tr>\n",
       "  </thead>\n",
       "  <tbody>\n",
       "    <tr>\n",
       "      <td>67</td>\n",
       "      <td>4</td>\n",
       "    </tr>\n",
       "    <tr>\n",
       "      <td>59</td>\n",
       "      <td>3</td>\n",
       "    </tr>\n",
       "    <tr>\n",
       "      <td>42</td>\n",
       "      <td>3</td>\n",
       "    </tr>\n",
       "    <tr>\n",
       "      <td>26</td>\n",
       "      <td>3</td>\n",
       "    </tr>\n",
       "    <tr>\n",
       "      <td>51</td>\n",
       "      <td>3</td>\n",
       "    </tr>\n",
       "  </tbody>\n",
       "</table>\n",
       "</div>"
      ],
      "text/plain": [
       "        count\n",
       "region       \n",
       "67          4\n",
       "59          3\n",
       "42          3\n",
       "26          3\n",
       "51          3"
      ]
     },
     "execution_count": 106,
     "metadata": {},
     "output_type": "execute_result"
    }
   ],
   "source": [
    "df_train.groupby('region')[['count']].median().sort_values(by='count', ascending=False).head()"
   ]
  },
  {
   "cell_type": "code",
   "execution_count": 104,
   "metadata": {
    "ExecuteTime": {
     "end_time": "2019-12-01T06:24:37.882604Z",
     "start_time": "2019-12-01T06:24:37.806949Z"
    }
   },
   "outputs": [
    {
     "data": {
      "text/html": [
       "<div>\n",
       "<style scoped>\n",
       "    .dataframe tbody tr th:only-of-type {\n",
       "        vertical-align: middle;\n",
       "    }\n",
       "\n",
       "    .dataframe tbody tr th {\n",
       "        vertical-align: top;\n",
       "    }\n",
       "\n",
       "    .dataframe thead th {\n",
       "        text-align: right;\n",
       "    }\n",
       "</style>\n",
       "<table border=\"1\" class=\"dataframe\">\n",
       "  <thead>\n",
       "    <tr style=\"text-align: right;\">\n",
       "      <th></th>\n",
       "      <th>sum</th>\n",
       "    </tr>\n",
       "    <tr>\n",
       "      <th>region</th>\n",
       "      <th></th>\n",
       "    </tr>\n",
       "  </thead>\n",
       "  <tbody>\n",
       "    <tr>\n",
       "      <td>59</td>\n",
       "      <td>1901.600</td>\n",
       "    </tr>\n",
       "    <tr>\n",
       "      <td>67</td>\n",
       "      <td>1458.160</td>\n",
       "    </tr>\n",
       "    <tr>\n",
       "      <td>52</td>\n",
       "      <td>983.696</td>\n",
       "    </tr>\n",
       "    <tr>\n",
       "      <td>33</td>\n",
       "      <td>239.600</td>\n",
       "    </tr>\n",
       "    <tr>\n",
       "      <td>14</td>\n",
       "      <td>193.490</td>\n",
       "    </tr>\n",
       "  </tbody>\n",
       "</table>\n",
       "</div>"
      ],
      "text/plain": [
       "             sum\n",
       "region          \n",
       "59      1901.600\n",
       "67      1458.160\n",
       "52       983.696\n",
       "33       239.600\n",
       "14       193.490"
      ]
     },
     "execution_count": 104,
     "metadata": {},
     "output_type": "execute_result"
    }
   ],
   "source": [
    "df_train.groupby('region')[['sum']].median().sort_values(by='sum', ascending=False).head()"
   ]
  },
  {
   "cell_type": "markdown",
   "metadata": {},
   "source": [
    "**Аналогичным образом оценим отрасли по количеству и сумме платежей в неделю:**"
   ]
  },
  {
   "cell_type": "code",
   "execution_count": 108,
   "metadata": {
    "ExecuteTime": {
     "end_time": "2019-12-01T06:31:52.600027Z",
     "start_time": "2019-12-01T06:31:52.524458Z"
    }
   },
   "outputs": [
    {
     "data": {
      "text/html": [
       "<div>\n",
       "<style scoped>\n",
       "    .dataframe tbody tr th:only-of-type {\n",
       "        vertical-align: middle;\n",
       "    }\n",
       "\n",
       "    .dataframe tbody tr th {\n",
       "        vertical-align: top;\n",
       "    }\n",
       "\n",
       "    .dataframe thead th {\n",
       "        text-align: right;\n",
       "    }\n",
       "</style>\n",
       "<table border=\"1\" class=\"dataframe\">\n",
       "  <thead>\n",
       "    <tr style=\"text-align: right;\">\n",
       "      <th></th>\n",
       "      <th>count</th>\n",
       "    </tr>\n",
       "    <tr>\n",
       "      <th>okved2</th>\n",
       "      <th></th>\n",
       "    </tr>\n",
       "  </thead>\n",
       "  <tbody>\n",
       "    <tr>\n",
       "      <td>66</td>\n",
       "      <td>3</td>\n",
       "    </tr>\n",
       "    <tr>\n",
       "      <td>0</td>\n",
       "      <td>2</td>\n",
       "    </tr>\n",
       "    <tr>\n",
       "      <td>59</td>\n",
       "      <td>2</td>\n",
       "    </tr>\n",
       "    <tr>\n",
       "      <td>57</td>\n",
       "      <td>2</td>\n",
       "    </tr>\n",
       "    <tr>\n",
       "      <td>56</td>\n",
       "      <td>2</td>\n",
       "    </tr>\n",
       "  </tbody>\n",
       "</table>\n",
       "</div>"
      ],
      "text/plain": [
       "        count\n",
       "okved2       \n",
       "66          3\n",
       "0           2\n",
       "59          2\n",
       "57          2\n",
       "56          2"
      ]
     },
     "execution_count": 108,
     "metadata": {},
     "output_type": "execute_result"
    }
   ],
   "source": [
    "df_train.groupby('okved2')[['count']].median().sort_values(by='count', ascending=False).head()"
   ]
  },
  {
   "cell_type": "code",
   "execution_count": 109,
   "metadata": {
    "ExecuteTime": {
     "end_time": "2019-12-01T06:31:59.043039Z",
     "start_time": "2019-12-01T06:31:58.962986Z"
    }
   },
   "outputs": [
    {
     "data": {
      "text/html": [
       "<div>\n",
       "<style scoped>\n",
       "    .dataframe tbody tr th:only-of-type {\n",
       "        vertical-align: middle;\n",
       "    }\n",
       "\n",
       "    .dataframe tbody tr th {\n",
       "        vertical-align: top;\n",
       "    }\n",
       "\n",
       "    .dataframe thead th {\n",
       "        text-align: right;\n",
       "    }\n",
       "</style>\n",
       "<table border=\"1\" class=\"dataframe\">\n",
       "  <thead>\n",
       "    <tr style=\"text-align: right;\">\n",
       "      <th></th>\n",
       "      <th>sum</th>\n",
       "    </tr>\n",
       "    <tr>\n",
       "      <th>okved2</th>\n",
       "      <th></th>\n",
       "    </tr>\n",
       "  </thead>\n",
       "  <tbody>\n",
       "    <tr>\n",
       "      <td>57</td>\n",
       "      <td>197.252</td>\n",
       "    </tr>\n",
       "    <tr>\n",
       "      <td>2</td>\n",
       "      <td>149.600</td>\n",
       "    </tr>\n",
       "    <tr>\n",
       "      <td>66</td>\n",
       "      <td>127.600</td>\n",
       "    </tr>\n",
       "    <tr>\n",
       "      <td>31</td>\n",
       "      <td>119.600</td>\n",
       "    </tr>\n",
       "    <tr>\n",
       "      <td>17</td>\n",
       "      <td>95.604</td>\n",
       "    </tr>\n",
       "  </tbody>\n",
       "</table>\n",
       "</div>"
      ],
      "text/plain": [
       "            sum\n",
       "okved2         \n",
       "57      197.252\n",
       "2       149.600\n",
       "66      127.600\n",
       "31      119.600\n",
       "17       95.604"
      ]
     },
     "execution_count": 109,
     "metadata": {},
     "output_type": "execute_result"
    }
   ],
   "source": [
    "df_train.groupby('okved2')[['sum']].median().sort_values(by='sum', ascending=False).head()"
   ]
  },
  {
   "cell_type": "markdown",
   "metadata": {},
   "source": [
    "**Видим, что 57 и 66 отрасли являются самыми платежеспособными (или самыми платежеобязанными)**"
   ]
  },
  {
   "cell_type": "code",
   "execution_count": 112,
   "metadata": {
    "ExecuteTime": {
     "end_time": "2019-12-01T06:40:01.225972Z",
     "start_time": "2019-12-01T06:40:01.083376Z"
    }
   },
   "outputs": [
    {
     "data": {
      "text/html": [
       "<div>\n",
       "<style scoped>\n",
       "    .dataframe tbody tr th:only-of-type {\n",
       "        vertical-align: middle;\n",
       "    }\n",
       "\n",
       "    .dataframe tbody tr th {\n",
       "        vertical-align: top;\n",
       "    }\n",
       "\n",
       "    .dataframe thead th {\n",
       "        text-align: right;\n",
       "    }\n",
       "</style>\n",
       "<table border=\"1\" class=\"dataframe\">\n",
       "  <thead>\n",
       "    <tr style=\"text-align: right;\">\n",
       "      <th></th>\n",
       "      <th></th>\n",
       "      <th>sum</th>\n",
       "    </tr>\n",
       "    <tr>\n",
       "      <th>okved2</th>\n",
       "      <th>region</th>\n",
       "      <th></th>\n",
       "    </tr>\n",
       "  </thead>\n",
       "  <tbody>\n",
       "    <tr>\n",
       "      <td>74</td>\n",
       "      <td>4</td>\n",
       "      <td>240025.254</td>\n",
       "    </tr>\n",
       "    <tr>\n",
       "      <td>58</td>\n",
       "      <td>57</td>\n",
       "      <td>20003.600</td>\n",
       "    </tr>\n",
       "    <tr>\n",
       "      <td>8</td>\n",
       "      <td>63</td>\n",
       "      <td>16370.022</td>\n",
       "    </tr>\n",
       "    <tr>\n",
       "      <td>2</td>\n",
       "      <td>39</td>\n",
       "      <td>9999.600</td>\n",
       "    </tr>\n",
       "    <tr>\n",
       "      <td>74</td>\n",
       "      <td>16</td>\n",
       "      <td>8439.238</td>\n",
       "    </tr>\n",
       "  </tbody>\n",
       "</table>\n",
       "</div>"
      ],
      "text/plain": [
       "                      sum\n",
       "okved2 region            \n",
       "74     4       240025.254\n",
       "58     57       20003.600\n",
       "8      63       16370.022\n",
       "2      39        9999.600\n",
       "74     16        8439.238"
      ]
     },
     "execution_count": 112,
     "metadata": {},
     "output_type": "execute_result"
    }
   ],
   "source": [
    "df_train.groupby(['okved2','region'])[['sum']].median().sort_values(by='sum', ascending=False).head()"
   ]
  },
  {
   "cell_type": "markdown",
   "metadata": {},
   "source": [
    "**Также видим, что больше всего в среднем платит 4 регион по 74 отрасли - это, вероятно, добывающая или пищевая промышленность**\n",
    "\n",
    "**Наконец укажем, что корреляция между количеством платежей и суммой платежей в неделю является значимой, но субъективно не очень высокой:**"
   ]
  },
  {
   "cell_type": "code",
   "execution_count": 115,
   "metadata": {
    "ExecuteTime": {
     "end_time": "2019-12-01T06:46:54.243839Z",
     "start_time": "2019-12-01T06:46:53.761815Z"
    }
   },
   "outputs": [
    {
     "data": {
      "text/plain": [
       "SpearmanrResult(correlation=0.3950407628767458, pvalue=0.0)"
      ]
     },
     "execution_count": 115,
     "metadata": {},
     "output_type": "execute_result"
    }
   ],
   "source": [
    "stats.spearmanr(df_train['count'], df_train['sum'])"
   ]
  },
  {
   "cell_type": "markdown",
   "metadata": {},
   "source": [
    "**В заключение посмотрим на количество категорий ИНН отправителя и получателя**"
   ]
  },
  {
   "cell_type": "code",
   "execution_count": 20,
   "metadata": {
    "ExecuteTime": {
     "end_time": "2019-12-01T05:53:29.289690Z",
     "start_time": "2019-12-01T05:53:29.270286Z"
    }
   },
   "outputs": [
    {
     "data": {
      "text/plain": [
       "(76604,)"
      ]
     },
     "execution_count": 20,
     "metadata": {},
     "output_type": "execute_result"
    }
   ],
   "source": [
    "# ИНН отправителя\n",
    "df_train.hash_inn_kt.unique().shape"
   ]
  },
  {
   "cell_type": "code",
   "execution_count": 31,
   "metadata": {
    "ExecuteTime": {
     "end_time": "2019-11-28T15:09:07.025603Z",
     "start_time": "2019-11-28T15:09:07.010568Z"
    }
   },
   "outputs": [
    {
     "data": {
      "text/plain": [
       "0.04530459539667839"
      ]
     },
     "execution_count": 31,
     "metadata": {},
     "output_type": "execute_result"
    }
   ],
   "source": [
    "df_train.hash_inn_kt.unique().shape[0] / df_train.shape[0]"
   ]
  },
  {
   "cell_type": "code",
   "execution_count": 32,
   "metadata": {
    "ExecuteTime": {
     "end_time": "2019-11-28T15:09:08.369953Z",
     "start_time": "2019-11-28T15:09:08.345896Z"
    }
   },
   "outputs": [
    {
     "data": {
      "text/plain": [
       "(126920,)"
      ]
     },
     "execution_count": 32,
     "metadata": {},
     "output_type": "execute_result"
    }
   ],
   "source": [
    "# ИНН получателя\n",
    "df_train.hash_inn_dt.unique().shape"
   ]
  },
  {
   "cell_type": "code",
   "execution_count": 33,
   "metadata": {
    "ExecuteTime": {
     "end_time": "2019-11-28T15:09:09.605811Z",
     "start_time": "2019-11-28T15:09:09.587562Z"
    }
   },
   "outputs": [
    {
     "data": {
      "text/plain": [
       "0.07506212792734611"
      ]
     },
     "execution_count": 33,
     "metadata": {},
     "output_type": "execute_result"
    }
   ],
   "source": [
    "df_train.hash_inn_dt.unique().shape[0] / df_train.shape[0]"
   ]
  },
  {
   "cell_type": "markdown",
   "metadata": {},
   "source": [
    "**Количество категорий ИНН отправителя и получателя составляет примерно 5% и 8% соответственно от общего размера сформированной тестовой выборки. Не будем исключать их из тестовой выборки - возможно они положительно повлияют на качество классификации**"
   ]
  },
  {
   "cell_type": "markdown",
   "metadata": {},
   "source": [
    "#### Альтернативная обучающая выборка"
   ]
  },
  {
   "cell_type": "markdown",
   "metadata": {},
   "source": [
    "**Здесь следующая идея: давайте группировать по ИНН и для каждого ИНН считать среднюю, максимальную и минимальную сумма платежей, среднее, максимальное и минимальное количество платежей, моду недели, региона и ИНН получателя и далее составлять из этого обучающую выборку**"
   ]
  },
  {
   "cell_type": "code",
   "execution_count": 85,
   "metadata": {
    "ExecuteTime": {
     "end_time": "2019-12-01T11:43:46.518055Z",
     "start_time": "2019-12-01T11:43:45.859300Z"
    }
   },
   "outputs": [
    {
     "data": {
      "text/html": [
       "<div>\n",
       "<style scoped>\n",
       "    .dataframe tbody tr th:only-of-type {\n",
       "        vertical-align: middle;\n",
       "    }\n",
       "\n",
       "    .dataframe tbody tr th {\n",
       "        vertical-align: top;\n",
       "    }\n",
       "\n",
       "    .dataframe thead th {\n",
       "        text-align: right;\n",
       "    }\n",
       "</style>\n",
       "<table border=\"1\" class=\"dataframe\">\n",
       "  <thead>\n",
       "    <tr style=\"text-align: right;\">\n",
       "      <th></th>\n",
       "      <th>hash_inn_dt</th>\n",
       "      <th>week</th>\n",
       "      <th>count</th>\n",
       "      <th>sum</th>\n",
       "      <th>hash_inn</th>\n",
       "      <th>okved2</th>\n",
       "      <th>region</th>\n",
       "    </tr>\n",
       "  </thead>\n",
       "  <tbody>\n",
       "    <tr>\n",
       "      <td>85</td>\n",
       "      <td>31310</td>\n",
       "      <td>5</td>\n",
       "      <td>2</td>\n",
       "      <td>12.4</td>\n",
       "      <td>1</td>\n",
       "      <td>62</td>\n",
       "      <td>26</td>\n",
       "    </tr>\n",
       "    <tr>\n",
       "      <td>86</td>\n",
       "      <td>31310</td>\n",
       "      <td>6</td>\n",
       "      <td>2</td>\n",
       "      <td>12.4</td>\n",
       "      <td>1</td>\n",
       "      <td>62</td>\n",
       "      <td>26</td>\n",
       "    </tr>\n",
       "    <tr>\n",
       "      <td>87</td>\n",
       "      <td>31310</td>\n",
       "      <td>8</td>\n",
       "      <td>2</td>\n",
       "      <td>12.4</td>\n",
       "      <td>1</td>\n",
       "      <td>62</td>\n",
       "      <td>26</td>\n",
       "    </tr>\n",
       "    <tr>\n",
       "      <td>88</td>\n",
       "      <td>31310</td>\n",
       "      <td>9</td>\n",
       "      <td>2</td>\n",
       "      <td>25.2</td>\n",
       "      <td>1</td>\n",
       "      <td>62</td>\n",
       "      <td>26</td>\n",
       "    </tr>\n",
       "    <tr>\n",
       "      <td>89</td>\n",
       "      <td>31310</td>\n",
       "      <td>11</td>\n",
       "      <td>2</td>\n",
       "      <td>25.2</td>\n",
       "      <td>1</td>\n",
       "      <td>62</td>\n",
       "      <td>26</td>\n",
       "    </tr>\n",
       "  </tbody>\n",
       "</table>\n",
       "</div>"
      ],
      "text/plain": [
       "    hash_inn_dt  week  count   sum  hash_inn  okved2  region\n",
       "85        31310     5      2  12.4         1      62      26\n",
       "86        31310     6      2  12.4         1      62      26\n",
       "87        31310     8      2  12.4         1      62      26\n",
       "88        31310     9      2  25.2         1      62      26\n",
       "89        31310    11      2  25.2         1      62      26"
      ]
     },
     "execution_count": 85,
     "metadata": {},
     "output_type": "execute_result"
    }
   ],
   "source": [
    "df_train_alt = df[df.okved2 != -1]\n",
    "df_train_alt = df_train_alt.drop('is_public', axis=1)\n",
    "df_train_alt = df_train_alt.drop('hash_inn_kt', axis=1)\n",
    "df_train_alt.head()"
   ]
  },
  {
   "cell_type": "code",
   "execution_count": 88,
   "metadata": {
    "ExecuteTime": {
     "end_time": "2019-12-01T11:54:51.019329Z",
     "start_time": "2019-12-01T11:45:54.544329Z"
    }
   },
   "outputs": [],
   "source": [
    "data = []\n",
    "\n",
    "for inn, group in df_train_alt.groupby('hash_inn'):\n",
    "    \n",
    "    data.append((\n",
    "        inn,\n",
    "        group['sum'].max(),\n",
    "        group['sum'].min(),\n",
    "        group['sum'].mean(),\n",
    "        group['count'].max(),\n",
    "        group['count'].min(),\n",
    "        group['count'].mean(),\n",
    "        group['hash_inn_dt'].value_counts().index[0],\n",
    "        group['week'].value_counts().index[0],\n",
    "        group['region'].value_counts().index[0],\n",
    "        group['okved2'].value_counts().index[0]\n",
    "    ))"
   ]
  },
  {
   "cell_type": "code",
   "execution_count": 89,
   "metadata": {
    "ExecuteTime": {
     "end_time": "2019-12-01T11:55:38.839678Z",
     "start_time": "2019-12-01T11:55:38.590203Z"
    }
   },
   "outputs": [],
   "source": [
    "df_train_alt = pd.DataFrame(data, columns=['inn', 'max_sum', 'min_sum', 'mean_sum',\n",
    "                                           'max_count', 'min_count', 'mean_count',\n",
    "                                           'inn_dt', 'week', 'region', 'okved2'])"
   ]
  },
  {
   "cell_type": "code",
   "execution_count": 90,
   "metadata": {
    "ExecuteTime": {
     "end_time": "2019-12-01T11:55:40.511120Z",
     "start_time": "2019-12-01T11:55:40.492042Z"
    }
   },
   "outputs": [
    {
     "data": {
      "text/html": [
       "<div>\n",
       "<style scoped>\n",
       "    .dataframe tbody tr th:only-of-type {\n",
       "        vertical-align: middle;\n",
       "    }\n",
       "\n",
       "    .dataframe tbody tr th {\n",
       "        vertical-align: top;\n",
       "    }\n",
       "\n",
       "    .dataframe thead th {\n",
       "        text-align: right;\n",
       "    }\n",
       "</style>\n",
       "<table border=\"1\" class=\"dataframe\">\n",
       "  <thead>\n",
       "    <tr style=\"text-align: right;\">\n",
       "      <th></th>\n",
       "      <th>inn</th>\n",
       "      <th>max_sum</th>\n",
       "      <th>min_sum</th>\n",
       "      <th>mean_sum</th>\n",
       "      <th>max_count</th>\n",
       "      <th>min_count</th>\n",
       "      <th>mean_count</th>\n",
       "      <th>inn_dt</th>\n",
       "      <th>week</th>\n",
       "      <th>region</th>\n",
       "      <th>okved2</th>\n",
       "    </tr>\n",
       "  </thead>\n",
       "  <tbody>\n",
       "    <tr>\n",
       "      <td>0</td>\n",
       "      <td>1</td>\n",
       "      <td>25.200</td>\n",
       "      <td>12.400</td>\n",
       "      <td>19.714286</td>\n",
       "      <td>2</td>\n",
       "      <td>2</td>\n",
       "      <td>2.000000</td>\n",
       "      <td>31310</td>\n",
       "      <td>15</td>\n",
       "      <td>26</td>\n",
       "      <td>62</td>\n",
       "    </tr>\n",
       "    <tr>\n",
       "      <td>1</td>\n",
       "      <td>3</td>\n",
       "      <td>13.948</td>\n",
       "      <td>13.948</td>\n",
       "      <td>13.948000</td>\n",
       "      <td>1</td>\n",
       "      <td>1</td>\n",
       "      <td>1.000000</td>\n",
       "      <td>17473</td>\n",
       "      <td>15</td>\n",
       "      <td>60</td>\n",
       "      <td>29</td>\n",
       "    </tr>\n",
       "    <tr>\n",
       "      <td>2</td>\n",
       "      <td>5</td>\n",
       "      <td>31.936</td>\n",
       "      <td>0.556</td>\n",
       "      <td>13.496364</td>\n",
       "      <td>6</td>\n",
       "      <td>1</td>\n",
       "      <td>2.090909</td>\n",
       "      <td>230506</td>\n",
       "      <td>22</td>\n",
       "      <td>85</td>\n",
       "      <td>14</td>\n",
       "    </tr>\n",
       "    <tr>\n",
       "      <td>3</td>\n",
       "      <td>7</td>\n",
       "      <td>3244.836</td>\n",
       "      <td>8.420</td>\n",
       "      <td>882.672842</td>\n",
       "      <td>15</td>\n",
       "      <td>1</td>\n",
       "      <td>3.684211</td>\n",
       "      <td>214170</td>\n",
       "      <td>8</td>\n",
       "      <td>18</td>\n",
       "      <td>12</td>\n",
       "    </tr>\n",
       "    <tr>\n",
       "      <td>4</td>\n",
       "      <td>8</td>\n",
       "      <td>643.880</td>\n",
       "      <td>6.128</td>\n",
       "      <td>181.044000</td>\n",
       "      <td>2</td>\n",
       "      <td>2</td>\n",
       "      <td>2.000000</td>\n",
       "      <td>238660</td>\n",
       "      <td>19</td>\n",
       "      <td>60</td>\n",
       "      <td>11</td>\n",
       "    </tr>\n",
       "  </tbody>\n",
       "</table>\n",
       "</div>"
      ],
      "text/plain": [
       "   inn   max_sum  min_sum    mean_sum  max_count  min_count  mean_count  \\\n",
       "0    1    25.200   12.400   19.714286          2          2    2.000000   \n",
       "1    3    13.948   13.948   13.948000          1          1    1.000000   \n",
       "2    5    31.936    0.556   13.496364          6          1    2.090909   \n",
       "3    7  3244.836    8.420  882.672842         15          1    3.684211   \n",
       "4    8   643.880    6.128  181.044000          2          2    2.000000   \n",
       "\n",
       "   inn_dt  week  region  okved2  \n",
       "0   31310    15      26      62  \n",
       "1   17473    15      60      29  \n",
       "2  230506    22      85      14  \n",
       "3  214170     8      18      12  \n",
       "4  238660    19      60      11  "
      ]
     },
     "execution_count": 90,
     "metadata": {},
     "output_type": "execute_result"
    }
   ],
   "source": [
    "df_train_alt.head()"
   ]
  },
  {
   "cell_type": "code",
   "execution_count": 91,
   "metadata": {
    "ExecuteTime": {
     "end_time": "2019-12-01T11:56:11.677622Z",
     "start_time": "2019-12-01T11:56:10.490793Z"
    }
   },
   "outputs": [],
   "source": [
    "df_train_alt.to_csv('training_set_alt.csv', index=False)"
   ]
  },
  {
   "cell_type": "code",
   "execution_count": null,
   "metadata": {},
   "outputs": [],
   "source": []
  },
  {
   "cell_type": "markdown",
   "metadata": {},
   "source": [
    "### Таблица для прогнозирования отрасли"
   ]
  },
  {
   "cell_type": "code",
   "execution_count": 23,
   "metadata": {
    "ExecuteTime": {
     "end_time": "2019-11-30T09:03:14.739093Z",
     "start_time": "2019-11-30T09:03:14.610995Z"
    }
   },
   "outputs": [
    {
     "data": {
      "text/html": [
       "<div>\n",
       "<style scoped>\n",
       "    .dataframe tbody tr th:only-of-type {\n",
       "        vertical-align: middle;\n",
       "    }\n",
       "\n",
       "    .dataframe tbody tr th {\n",
       "        vertical-align: top;\n",
       "    }\n",
       "\n",
       "    .dataframe thead th {\n",
       "        text-align: right;\n",
       "    }\n",
       "</style>\n",
       "<table border=\"1\" class=\"dataframe\">\n",
       "  <thead>\n",
       "    <tr style=\"text-align: right;\">\n",
       "      <th></th>\n",
       "      <th>hash_inn_kt</th>\n",
       "      <th>hash_inn_dt</th>\n",
       "      <th>week</th>\n",
       "      <th>count</th>\n",
       "      <th>sum</th>\n",
       "      <th>hash_inn</th>\n",
       "      <th>okved2</th>\n",
       "      <th>region</th>\n",
       "      <th>is_public</th>\n",
       "    </tr>\n",
       "  </thead>\n",
       "  <tbody>\n",
       "    <tr>\n",
       "      <td>0</td>\n",
       "      <td>0</td>\n",
       "      <td>0</td>\n",
       "      <td>1</td>\n",
       "      <td>4</td>\n",
       "      <td>38399.6</td>\n",
       "      <td>0</td>\n",
       "      <td>-1</td>\n",
       "      <td>84</td>\n",
       "      <td>False</td>\n",
       "    </tr>\n",
       "    <tr>\n",
       "      <td>1</td>\n",
       "      <td>0</td>\n",
       "      <td>0</td>\n",
       "      <td>5</td>\n",
       "      <td>2</td>\n",
       "      <td>399.6</td>\n",
       "      <td>0</td>\n",
       "      <td>-1</td>\n",
       "      <td>84</td>\n",
       "      <td>False</td>\n",
       "    </tr>\n",
       "    <tr>\n",
       "      <td>2</td>\n",
       "      <td>0</td>\n",
       "      <td>0</td>\n",
       "      <td>7</td>\n",
       "      <td>2</td>\n",
       "      <td>79.6</td>\n",
       "      <td>0</td>\n",
       "      <td>-1</td>\n",
       "      <td>84</td>\n",
       "      <td>False</td>\n",
       "    </tr>\n",
       "    <tr>\n",
       "      <td>3</td>\n",
       "      <td>0</td>\n",
       "      <td>0</td>\n",
       "      <td>9</td>\n",
       "      <td>2</td>\n",
       "      <td>239.6</td>\n",
       "      <td>0</td>\n",
       "      <td>-1</td>\n",
       "      <td>84</td>\n",
       "      <td>False</td>\n",
       "    </tr>\n",
       "    <tr>\n",
       "      <td>4</td>\n",
       "      <td>0</td>\n",
       "      <td>0</td>\n",
       "      <td>12</td>\n",
       "      <td>2</td>\n",
       "      <td>79.6</td>\n",
       "      <td>0</td>\n",
       "      <td>-1</td>\n",
       "      <td>84</td>\n",
       "      <td>False</td>\n",
       "    </tr>\n",
       "  </tbody>\n",
       "</table>\n",
       "</div>"
      ],
      "text/plain": [
       "   hash_inn_kt  hash_inn_dt  week  count      sum  hash_inn  okved2  region  \\\n",
       "0            0            0     1      4  38399.6         0      -1      84   \n",
       "1            0            0     5      2    399.6         0      -1      84   \n",
       "2            0            0     7      2     79.6         0      -1      84   \n",
       "3            0            0     9      2    239.6         0      -1      84   \n",
       "4            0            0    12      2     79.6         0      -1      84   \n",
       "\n",
       "   is_public  \n",
       "0      False  \n",
       "1      False  \n",
       "2      False  \n",
       "3      False  \n",
       "4      False  "
      ]
     },
     "execution_count": 23,
     "metadata": {},
     "output_type": "execute_result"
    }
   ],
   "source": [
    "df_prediction = df[df.okved2 == -1]\n",
    "df_prediction.head()"
   ]
  },
  {
   "cell_type": "code",
   "execution_count": 24,
   "metadata": {
    "ExecuteTime": {
     "end_time": "2019-11-30T09:03:17.602000Z",
     "start_time": "2019-11-30T09:03:17.596908Z"
    }
   },
   "outputs": [
    {
     "data": {
      "text/plain": [
       "(1711649, 9)"
      ]
     },
     "execution_count": 24,
     "metadata": {},
     "output_type": "execute_result"
    }
   ],
   "source": [
    "df_prediction.shape"
   ]
  },
  {
   "cell_type": "code",
   "execution_count": 80,
   "metadata": {
    "ExecuteTime": {
     "end_time": "2019-12-01T09:04:12.899347Z",
     "start_time": "2019-12-01T09:04:12.804582Z"
    }
   },
   "outputs": [
    {
     "data": {
      "text/plain": [
       "(49966,)"
      ]
     },
     "execution_count": 80,
     "metadata": {},
     "output_type": "execute_result"
    }
   ],
   "source": [
    "df_prediction[df_prediction.okved2 == -1].hash_inn.unique().shape"
   ]
  },
  {
   "cell_type": "markdown",
   "metadata": {},
   "source": [
    "**К сожалению, после пересечения с таблицей pays осталось только около 50 тысяч уникальных ИНН из 78 с половиной тысяч, по которым доступна информация. По остальным ИНН предсказание сделать не получится**"
   ]
  },
  {
   "cell_type": "code",
   "execution_count": 25,
   "metadata": {
    "ExecuteTime": {
     "end_time": "2019-11-30T09:03:20.306718Z",
     "start_time": "2019-11-30T09:03:20.286266Z"
    }
   },
   "outputs": [
    {
     "data": {
      "text/plain": [
       "False    1711649\n",
       "Name: is_public, dtype: int64"
      ]
     },
     "execution_count": 25,
     "metadata": {},
     "output_type": "execute_result"
    }
   ],
   "source": [
    "df_prediction.is_public.value_counts()"
   ]
  },
  {
   "cell_type": "code",
   "execution_count": 26,
   "metadata": {
    "ExecuteTime": {
     "end_time": "2019-11-30T09:03:22.530830Z",
     "start_time": "2019-11-30T09:03:22.430328Z"
    }
   },
   "outputs": [],
   "source": [
    "df_prediction = df_prediction.drop('is_public', axis=1)"
   ]
  },
  {
   "cell_type": "code",
   "execution_count": 27,
   "metadata": {
    "ExecuteTime": {
     "end_time": "2019-11-30T09:04:18.489471Z",
     "start_time": "2019-11-30T09:04:04.914250Z"
    }
   },
   "outputs": [],
   "source": [
    "df_prediction.to_csv('prediction_set.csv', index=False)"
   ]
  },
  {
   "cell_type": "code",
   "execution_count": null,
   "metadata": {},
   "outputs": [],
   "source": []
  },
  {
   "cell_type": "markdown",
   "metadata": {},
   "source": [
    "# Обучение моделей"
   ]
  },
  {
   "cell_type": "code",
   "execution_count": 2,
   "metadata": {
    "ExecuteTime": {
     "end_time": "2019-12-01T09:51:16.158407Z",
     "start_time": "2019-12-01T09:51:15.162268Z"
    }
   },
   "outputs": [
    {
     "data": {
      "text/html": [
       "<div>\n",
       "<style scoped>\n",
       "    .dataframe tbody tr th:only-of-type {\n",
       "        vertical-align: middle;\n",
       "    }\n",
       "\n",
       "    .dataframe tbody tr th {\n",
       "        vertical-align: top;\n",
       "    }\n",
       "\n",
       "    .dataframe thead th {\n",
       "        text-align: right;\n",
       "    }\n",
       "</style>\n",
       "<table border=\"1\" class=\"dataframe\">\n",
       "  <thead>\n",
       "    <tr style=\"text-align: right;\">\n",
       "      <th></th>\n",
       "      <th>hash_inn_kt</th>\n",
       "      <th>hash_inn_dt</th>\n",
       "      <th>week</th>\n",
       "      <th>count</th>\n",
       "      <th>sum</th>\n",
       "      <th>hash_inn</th>\n",
       "      <th>okved2</th>\n",
       "      <th>region</th>\n",
       "    </tr>\n",
       "  </thead>\n",
       "  <tbody>\n",
       "    <tr>\n",
       "      <td>0</td>\n",
       "      <td>129670</td>\n",
       "      <td>192730</td>\n",
       "      <td>9</td>\n",
       "      <td>2</td>\n",
       "      <td>5.120</td>\n",
       "      <td>129670</td>\n",
       "      <td>12</td>\n",
       "      <td>23</td>\n",
       "    </tr>\n",
       "    <tr>\n",
       "      <td>1</td>\n",
       "      <td>98098</td>\n",
       "      <td>113887</td>\n",
       "      <td>4</td>\n",
       "      <td>2</td>\n",
       "      <td>313.752</td>\n",
       "      <td>98098</td>\n",
       "      <td>12</td>\n",
       "      <td>86</td>\n",
       "    </tr>\n",
       "    <tr>\n",
       "      <td>2</td>\n",
       "      <td>71166</td>\n",
       "      <td>243907</td>\n",
       "      <td>17</td>\n",
       "      <td>3</td>\n",
       "      <td>5.760</td>\n",
       "      <td>71166</td>\n",
       "      <td>12</td>\n",
       "      <td>28</td>\n",
       "    </tr>\n",
       "    <tr>\n",
       "      <td>3</td>\n",
       "      <td>68412</td>\n",
       "      <td>216590</td>\n",
       "      <td>3</td>\n",
       "      <td>2</td>\n",
       "      <td>51.880</td>\n",
       "      <td>68412</td>\n",
       "      <td>12</td>\n",
       "      <td>26</td>\n",
       "    </tr>\n",
       "    <tr>\n",
       "      <td>4</td>\n",
       "      <td>218472</td>\n",
       "      <td>25060</td>\n",
       "      <td>10</td>\n",
       "      <td>1</td>\n",
       "      <td>27.160</td>\n",
       "      <td>218472</td>\n",
       "      <td>12</td>\n",
       "      <td>1</td>\n",
       "    </tr>\n",
       "  </tbody>\n",
       "</table>\n",
       "</div>"
      ],
      "text/plain": [
       "   hash_inn_kt  hash_inn_dt  week  count      sum  hash_inn  okved2  region\n",
       "0       129670       192730     9      2    5.120    129670      12      23\n",
       "1        98098       113887     4      2  313.752     98098      12      86\n",
       "2        71166       243907    17      3    5.760     71166      12      28\n",
       "3        68412       216590     3      2   51.880     68412      12      26\n",
       "4       218472        25060    10      1   27.160    218472      12       1"
      ]
     },
     "execution_count": 2,
     "metadata": {},
     "output_type": "execute_result"
    }
   ],
   "source": [
    "df_train = pd.read_csv('training_set.csv')\n",
    "df_train.head()"
   ]
  },
  {
   "cell_type": "code",
   "execution_count": 3,
   "metadata": {
    "ExecuteTime": {
     "end_time": "2019-12-01T09:51:17.425573Z",
     "start_time": "2019-12-01T09:51:17.395930Z"
    }
   },
   "outputs": [],
   "source": [
    "X = df_train.drop(['hash_inn', 'okved2'], axis=1)\n",
    "y = df_train.okved2.values"
   ]
  },
  {
   "cell_type": "markdown",
   "metadata": {},
   "source": [
    "**Преобразуем признак `sum` в диапазон от 0 до 1**\n",
    "\n",
    "**Преобразуем признаки в `int32` и `float32`, чтобы уменьшить потребление памяти**"
   ]
  },
  {
   "cell_type": "code",
   "execution_count": 4,
   "metadata": {
    "ExecuteTime": {
     "end_time": "2019-12-01T09:51:18.463823Z",
     "start_time": "2019-12-01T09:51:18.408702Z"
    }
   },
   "outputs": [],
   "source": [
    "X['sum'] = (X['sum'] - X['sum'].min()) / (X['sum'].max() - X['sum'].min())"
   ]
  },
  {
   "cell_type": "code",
   "execution_count": 5,
   "metadata": {
    "ExecuteTime": {
     "end_time": "2019-12-01T09:51:19.189225Z",
     "start_time": "2019-12-01T09:51:19.117319Z"
    }
   },
   "outputs": [],
   "source": [
    "for c in X.columns:\n",
    "    if c == 'sum':\n",
    "        X[c] = X[c].astype(np.float32)\n",
    "    else:\n",
    "        X[c] = X[c].astype(np.int32)"
   ]
  },
  {
   "cell_type": "code",
   "execution_count": 6,
   "metadata": {
    "ExecuteTime": {
     "end_time": "2019-12-01T09:51:20.753236Z",
     "start_time": "2019-12-01T09:51:20.729728Z"
    }
   },
   "outputs": [
    {
     "name": "stdout",
     "output_type": "stream",
     "text": [
      "<class 'pandas.core.frame.DataFrame'>\n",
      "RangeIndex: 1690866 entries, 0 to 1690865\n",
      "Data columns (total 6 columns):\n",
      "hash_inn_kt    int32\n",
      "hash_inn_dt    int32\n",
      "week           int32\n",
      "count          int32\n",
      "sum            float32\n",
      "region         int32\n",
      "dtypes: float32(1), int32(5)\n",
      "memory usage: 38.7 MB\n"
     ]
    }
   ],
   "source": [
    "X.info()"
   ]
  },
  {
   "cell_type": "code",
   "execution_count": 7,
   "metadata": {
    "ExecuteTime": {
     "end_time": "2019-12-01T09:51:23.057163Z",
     "start_time": "2019-12-01T09:51:22.758509Z"
    }
   },
   "outputs": [
    {
     "data": {
      "text/html": [
       "<div>\n",
       "<style scoped>\n",
       "    .dataframe tbody tr th:only-of-type {\n",
       "        vertical-align: middle;\n",
       "    }\n",
       "\n",
       "    .dataframe tbody tr th {\n",
       "        vertical-align: top;\n",
       "    }\n",
       "\n",
       "    .dataframe thead th {\n",
       "        text-align: right;\n",
       "    }\n",
       "</style>\n",
       "<table border=\"1\" class=\"dataframe\">\n",
       "  <thead>\n",
       "    <tr style=\"text-align: right;\">\n",
       "      <th></th>\n",
       "      <th>hash_inn_kt</th>\n",
       "      <th>hash_inn_dt</th>\n",
       "      <th>week</th>\n",
       "      <th>count</th>\n",
       "      <th>sum</th>\n",
       "      <th>region</th>\n",
       "    </tr>\n",
       "  </thead>\n",
       "  <tbody>\n",
       "    <tr>\n",
       "      <td>count</td>\n",
       "      <td>1.690866e+06</td>\n",
       "      <td>1.690866e+06</td>\n",
       "      <td>1.690866e+06</td>\n",
       "      <td>1.690866e+06</td>\n",
       "      <td>1.690866e+06</td>\n",
       "      <td>1.690866e+06</td>\n",
       "    </tr>\n",
       "    <tr>\n",
       "      <td>mean</td>\n",
       "      <td>1.277280e+05</td>\n",
       "      <td>1.301890e+05</td>\n",
       "      <td>1.163021e+01</td>\n",
       "      <td>2.858393e+00</td>\n",
       "      <td>1.365578e-04</td>\n",
       "      <td>6.836800e+01</td>\n",
       "    </tr>\n",
       "    <tr>\n",
       "      <td>std</td>\n",
       "      <td>7.568960e+04</td>\n",
       "      <td>7.556123e+04</td>\n",
       "      <td>6.332667e+00</td>\n",
       "      <td>5.544837e+00</td>\n",
       "      <td>2.943685e-03</td>\n",
       "      <td>2.498680e+01</td>\n",
       "    </tr>\n",
       "    <tr>\n",
       "      <td>min</td>\n",
       "      <td>1.000000e+00</td>\n",
       "      <td>0.000000e+00</td>\n",
       "      <td>0.000000e+00</td>\n",
       "      <td>0.000000e+00</td>\n",
       "      <td>0.000000e+00</td>\n",
       "      <td>1.000000e+00</td>\n",
       "    </tr>\n",
       "    <tr>\n",
       "      <td>25%</td>\n",
       "      <td>6.024100e+04</td>\n",
       "      <td>6.425500e+04</td>\n",
       "      <td>6.000000e+00</td>\n",
       "      <td>1.000000e+00</td>\n",
       "      <td>7.563534e-07</td>\n",
       "      <td>6.000000e+01</td>\n",
       "    </tr>\n",
       "    <tr>\n",
       "      <td>50%</td>\n",
       "      <td>1.261320e+05</td>\n",
       "      <td>1.292625e+05</td>\n",
       "      <td>1.200000e+01</td>\n",
       "      <td>2.000000e+00</td>\n",
       "      <td>3.408632e-06</td>\n",
       "      <td>8.400000e+01</td>\n",
       "    </tr>\n",
       "    <tr>\n",
       "      <td>75%</td>\n",
       "      <td>1.939790e+05</td>\n",
       "      <td>1.959580e+05</td>\n",
       "      <td>1.700000e+01</td>\n",
       "      <td>3.000000e+00</td>\n",
       "      <td>1.869706e-05</td>\n",
       "      <td>8.500000e+01</td>\n",
       "    </tr>\n",
       "    <tr>\n",
       "      <td>max</td>\n",
       "      <td>2.605100e+05</td>\n",
       "      <td>2.605140e+05</td>\n",
       "      <td>2.300000e+01</td>\n",
       "      <td>2.272000e+03</td>\n",
       "      <td>1.000000e+00</td>\n",
       "      <td>9.000000e+01</td>\n",
       "    </tr>\n",
       "  </tbody>\n",
       "</table>\n",
       "</div>"
      ],
      "text/plain": [
       "        hash_inn_kt   hash_inn_dt          week         count           sum  \\\n",
       "count  1.690866e+06  1.690866e+06  1.690866e+06  1.690866e+06  1.690866e+06   \n",
       "mean   1.277280e+05  1.301890e+05  1.163021e+01  2.858393e+00  1.365578e-04   \n",
       "std    7.568960e+04  7.556123e+04  6.332667e+00  5.544837e+00  2.943685e-03   \n",
       "min    1.000000e+00  0.000000e+00  0.000000e+00  0.000000e+00  0.000000e+00   \n",
       "25%    6.024100e+04  6.425500e+04  6.000000e+00  1.000000e+00  7.563534e-07   \n",
       "50%    1.261320e+05  1.292625e+05  1.200000e+01  2.000000e+00  3.408632e-06   \n",
       "75%    1.939790e+05  1.959580e+05  1.700000e+01  3.000000e+00  1.869706e-05   \n",
       "max    2.605100e+05  2.605140e+05  2.300000e+01  2.272000e+03  1.000000e+00   \n",
       "\n",
       "             region  \n",
       "count  1.690866e+06  \n",
       "mean   6.836800e+01  \n",
       "std    2.498680e+01  \n",
       "min    1.000000e+00  \n",
       "25%    6.000000e+01  \n",
       "50%    8.400000e+01  \n",
       "75%    8.500000e+01  \n",
       "max    9.000000e+01  "
      ]
     },
     "execution_count": 7,
     "metadata": {},
     "output_type": "execute_result"
    }
   ],
   "source": [
    "X.describe()"
   ]
  },
  {
   "cell_type": "markdown",
   "metadata": {},
   "source": [
    "## Поиск baseline"
   ]
  },
  {
   "cell_type": "code",
   "execution_count": 16,
   "metadata": {
    "ExecuteTime": {
     "end_time": "2019-12-01T07:45:45.522168Z",
     "start_time": "2019-12-01T07:45:45.517891Z"
    }
   },
   "outputs": [],
   "source": [
    "skf = model_selection.StratifiedKFold(n_splits=3, shuffle=True, random_state=42)"
   ]
  },
  {
   "cell_type": "code",
   "execution_count": 12,
   "metadata": {
    "ExecuteTime": {
     "end_time": "2019-12-01T05:32:23.500209Z",
     "start_time": "2019-12-01T05:32:23.496318Z"
    },
    "scrolled": true
   },
   "outputs": [],
   "source": [
    "models = ['KNeighbors', 'Bayes', 'LogisticRegression', 'RandomForest', 'AdaBoost', 'SVC', 'MLP', 'Gaussian', 'GBM']\n",
    "scores = []\n",
    "\n",
    "for m in models:\n",
    "\n",
    "    if m == 'KNeighbors':\n",
    "        model = neighbors.KNeighborsClassifier()\n",
    "    elif m == 'Bayes':\n",
    "        model = naive_bayes.ComplementNB()\n",
    "    elif m == 'LogisticRegression':\n",
    "        model = linear_model.LogisticRegression(random_state=42, multi_class='multinomial', solver='newton-cg')\n",
    "    elif m == 'RandomForest':\n",
    "        model = ensemble.RandomForestClassifier(random_state=42, class_weight='balanced', n_estimators=150)\n",
    "    elif m == 'AdaBoost':\n",
    "        model = ensemble.AdaBoostClassifier(random_state=42, n_estimators=150)\n",
    "    elif m == 'SVC':\n",
    "        model = svm.SVC(random_state=42, class_weight='balanced', gamma='auto')\n",
    "    elif m == 'MLP':\n",
    "        model = neural_network.MLPClassifier(random_state=42)\n",
    "    elif m == 'Gaussian':\n",
    "        model = gaussian_process.GaussianProcessClassifier(random_state=42)\n",
    "    elif m == 'GBM':\n",
    "        model = LGBMClassifier(random_state=42, objective='multiclass')\n",
    "        \n",
    "    score = model_selection.cross_val_score(model, X, y, scoring='accuracy', cv=skf, n_jobs=1, verbose=13).mean()\n",
    "    scores.append(score)\n",
    "    print(m, score)\n",
    "    \n",
    "# KNeighbors 0.6352626423154838\n",
    "# Bayes 0.03574327360381763\n",
    "# LogisticRegression 0.053765947241550455\n",
    "# RandomForest ?\n",
    "# AdaBoost 0.10477180166477877\n",
    "# SVC ?\n",
    "# MLP 0.030832718005585208\n",
    "# Gaussian ?\n",
    "# GBM 0.49358907991174755"
   ]
  },
  {
   "cell_type": "code",
   "execution_count": null,
   "metadata": {
    "ExecuteTime": {
     "end_time": "2019-11-28T23:01:32.613600Z",
     "start_time": "2019-11-28T15:30:07.024Z"
    }
   },
   "outputs": [],
   "source": [
    "pd.DataFrame({'model': models, 'score': scores})"
   ]
  },
  {
   "cell_type": "markdown",
   "metadata": {},
   "source": [
    "**К сожалению не все модели удалось оценить. Фактически это связано с большим объемом выборки и ограниченными вычислительными и временными ресурсами. Тем не менее, можно увидеть что алгоритм ближайших соседей превосходит все остальные модели, в том числе и градиентный бустинг - будем считать его лучшей baseline моделью**"
   ]
  },
  {
   "cell_type": "markdown",
   "metadata": {},
   "source": [
    "## Подбор гиперпараметров лучшей baseline модели"
   ]
  },
  {
   "cell_type": "code",
   "execution_count": 17,
   "metadata": {
    "ExecuteTime": {
     "end_time": "2019-12-01T07:56:52.740289Z",
     "start_time": "2019-12-01T07:45:47.731694Z"
    },
    "scrolled": true
   },
   "outputs": [
    {
     "name": "stdout",
     "output_type": "stream",
     "text": [
      "Fitting 3 folds for each of 13 candidates, totalling 39 fits\n"
     ]
    },
    {
     "name": "stderr",
     "output_type": "stream",
     "text": [
      "[Parallel(n_jobs=2)]: Using backend LokyBackend with 2 concurrent workers.\n",
      "[Parallel(n_jobs=2)]: Done   1 tasks      | elapsed:   20.6s\n",
      "[Parallel(n_jobs=2)]: Done   2 tasks      | elapsed:   20.9s\n",
      "[Parallel(n_jobs=2)]: Done   3 tasks      | elapsed:   40.3s\n",
      "[Parallel(n_jobs=2)]: Done   4 tasks      | elapsed:   53.2s\n",
      "[Parallel(n_jobs=2)]: Done   5 tasks      | elapsed:  1.2min\n",
      "[Parallel(n_jobs=2)]: Done   6 tasks      | elapsed:  1.4min\n",
      "[Parallel(n_jobs=2)]: Done   7 tasks      | elapsed:  1.5min\n",
      "[Parallel(n_jobs=2)]: Done   8 tasks      | elapsed:  1.7min\n",
      "[Parallel(n_jobs=2)]: Done   9 tasks      | elapsed:  1.7min\n",
      "[Parallel(n_jobs=2)]: Done  10 tasks      | elapsed:  1.8min\n",
      "[Parallel(n_jobs=2)]: Done  11 tasks      | elapsed:  1.9min\n",
      "[Parallel(n_jobs=2)]: Done  12 tasks      | elapsed:  2.0min\n",
      "[Parallel(n_jobs=2)]: Done  13 tasks      | elapsed:  2.0min\n",
      "[Parallel(n_jobs=2)]: Done  14 tasks      | elapsed:  2.2min\n",
      "[Parallel(n_jobs=2)]: Done  15 tasks      | elapsed:  2.2min\n",
      "[Parallel(n_jobs=2)]: Done  16 tasks      | elapsed:  2.5min\n",
      "[Parallel(n_jobs=2)]: Done  17 tasks      | elapsed:  2.6min\n",
      "[Parallel(n_jobs=2)]: Done  18 tasks      | elapsed:  2.9min\n",
      "[Parallel(n_jobs=2)]: Done  19 tasks      | elapsed:  2.9min\n",
      "[Parallel(n_jobs=2)]: Done  20 tasks      | elapsed:  3.3min\n",
      "[Parallel(n_jobs=2)]: Done  21 tasks      | elapsed:  3.3min\n",
      "[Parallel(n_jobs=2)]: Done  22 tasks      | elapsed:  3.5min\n",
      "[Parallel(n_jobs=2)]: Done  23 tasks      | elapsed:  3.5min\n",
      "[Parallel(n_jobs=2)]: Done  24 tasks      | elapsed:  3.6min\n",
      "[Parallel(n_jobs=2)]: Done  25 tasks      | elapsed:  3.7min\n",
      "[Parallel(n_jobs=2)]: Done  26 tasks      | elapsed:  3.7min\n",
      "[Parallel(n_jobs=2)]: Done  27 tasks      | elapsed:  3.8min\n",
      "[Parallel(n_jobs=2)]: Done  28 tasks      | elapsed:  7.4min\n",
      "[Parallel(n_jobs=2)]: Done  29 tasks      | elapsed:  7.4min\n",
      "[Parallel(n_jobs=2)]: Done  30 tasks      | elapsed:  7.6min\n",
      "[Parallel(n_jobs=2)]: Done  31 tasks      | elapsed:  7.7min\n",
      "[Parallel(n_jobs=2)]: Done  32 tasks      | elapsed:  7.9min\n",
      "[Parallel(n_jobs=2)]: Done  33 tasks      | elapsed:  8.1min\n",
      "[Parallel(n_jobs=2)]: Done  34 tasks      | elapsed:  8.2min\n",
      "[Parallel(n_jobs=2)]: Done  35 tasks      | elapsed:  8.4min\n",
      "[Parallel(n_jobs=2)]: Done  36 tasks      | elapsed:  8.9min\n",
      "[Parallel(n_jobs=2)]: Done  39 out of  39 | elapsed: 11.0min finished\n"
     ]
    },
    {
     "data": {
      "text/plain": [
       "RandomizedSearchCV(cv=StratifiedKFold(n_splits=3, random_state=42, shuffle=True),\n",
       "                   error_score='raise-deprecating',\n",
       "                   estimator=KNeighborsClassifier(algorithm='auto',\n",
       "                                                  leaf_size=30,\n",
       "                                                  metric='minkowski',\n",
       "                                                  metric_params=None,\n",
       "                                                  n_jobs=None, n_neighbors=5,\n",
       "                                                  p=2, weights='uniform'),\n",
       "                   iid='warn', n_iter=13, n_jobs=2,\n",
       "                   param_distributions={'algorithm': ['auto', 'ball_tree',\n",
       "                                                      'kd_tree'],\n",
       "                                        'leaf_size': [20, 25, 30, 35, 40],\n",
       "                                        'n_neighbors': [3, 5, 8, 11, 13],\n",
       "                                        'p': [1, 2, 3, 4],\n",
       "                                        'weights': ['distance']},\n",
       "                   pre_dispatch='2*n_jobs', random_state=42, refit=True,\n",
       "                   return_train_score=False, scoring='accuracy', verbose=13)"
      ]
     },
     "execution_count": 17,
     "metadata": {},
     "output_type": "execute_result"
    }
   ],
   "source": [
    "clf = neighbors.KNeighborsClassifier()\n",
    "\n",
    "param_grid = {'n_neighbors': [3, 5, 8, 11, 13], 'weights': ['distance'], \n",
    "              'algorithm': ['auto', 'ball_tree', 'kd_tree'],\n",
    "              'p': [1, 2, 3, 4], 'leaf_size': [20, 25, 30, 35, 40]}\n",
    "\n",
    "gs = model_selection.RandomizedSearchCV(clf, param_grid, cv=skf, scoring='accuracy', \n",
    "                                        random_state=42, n_iter=13, verbose=13, n_jobs=2)\n",
    "\n",
    "gs.fit(X, y)"
   ]
  },
  {
   "cell_type": "code",
   "execution_count": 81,
   "metadata": {
    "ExecuteTime": {
     "end_time": "2019-12-01T09:12:41.359222Z",
     "start_time": "2019-12-01T09:12:41.354776Z"
    }
   },
   "outputs": [
    {
     "name": "stdout",
     "output_type": "stream",
     "text": [
      "0.8092983122258062\n",
      "KNeighborsClassifier(algorithm='ball_tree', leaf_size=30, metric='minkowski',\n",
      "                     metric_params=None, n_jobs=None, n_neighbors=11, p=1,\n",
      "                     weights='distance')\n"
     ]
    }
   ],
   "source": [
    "print(gs.best_score_)\n",
    "print(gs.best_estimator_)"
   ]
  },
  {
   "cell_type": "code",
   "execution_count": 83,
   "metadata": {
    "ExecuteTime": {
     "end_time": "2019-12-01T09:15:26.479072Z",
     "start_time": "2019-12-01T09:15:25.960861Z"
    }
   },
   "outputs": [
    {
     "data": {
      "text/plain": [
       "['gs_KNeighborsClassifier.joblib']"
      ]
     },
     "execution_count": 83,
     "metadata": {},
     "output_type": "execute_result"
    }
   ],
   "source": [
    "joblib.dump(gs, 'gs_KNeighborsClassifier.joblib')"
   ]
  },
  {
   "cell_type": "code",
   "execution_count": 22,
   "metadata": {
    "ExecuteTime": {
     "end_time": "2019-12-01T08:19:15.951447Z",
     "start_time": "2019-12-01T08:18:33.944989Z"
    }
   },
   "outputs": [],
   "source": [
    "y_predicted = gs.best_estimator_.predict(X)"
   ]
  },
  {
   "cell_type": "code",
   "execution_count": 32,
   "metadata": {
    "ExecuteTime": {
     "end_time": "2019-12-01T08:25:54.483604Z",
     "start_time": "2019-12-01T08:25:52.191185Z"
    }
   },
   "outputs": [
    {
     "data": {
      "text/plain": [
       "(array([ 0.5,  2.5,  4.5,  6.5,  8.5, 10.5, 12.5, 14.5, 16.5, 18.5, 20.5,\n",
       "        22.5, 24.5, 26.5, 28.5, 30.5, 32.5, 34.5, 36.5, 38.5, 40.5, 42.5,\n",
       "        44.5, 46.5, 48.5, 50.5, 52.5, 54.5, 56.5, 58.5, 60.5, 62.5, 64.5,\n",
       "        66.5, 68.5, 70.5, 72.5, 74.5, 76.5, 78.5]),\n",
       " <a list of 40 Text xticklabel objects>)"
      ]
     },
     "execution_count": 32,
     "metadata": {},
     "output_type": "execute_result"
    },
    {
     "data": {
      "image/png": "[encoded data removed]",
      "text/plain": [
       "<Figure size 720x360 with 2 Axes>"
      ]
     },
     "metadata": {},
     "output_type": "display_data"
    }
   ],
   "source": [
    "cm = metrics.confusion_matrix(y, y_predicted)\n",
    "sns.heatmap(cm, annot=False, linewidths=.1, cmap='Blues')\n",
    "plt.xticks(rotation=0)"
   ]
  },
  {
   "cell_type": "markdown",
   "metadata": {},
   "source": [
    "**Похоже, что `KNeighborsClassifier` предсказывает очень хорошо на обучающей выборке. Вполне возможно, что он переобучился**"
   ]
  },
  {
   "cell_type": "code",
   "execution_count": null,
   "metadata": {},
   "outputs": [],
   "source": []
  },
  {
   "cell_type": "code",
   "execution_count": 36,
   "metadata": {
    "ExecuteTime": {
     "end_time": "2019-12-01T08:48:49.160410Z",
     "start_time": "2019-12-01T08:41:42.192776Z"
    }
   },
   "outputs": [
    {
     "name": "stdout",
     "output_type": "stream",
     "text": [
      "[learning_curve] Training set sizes: [  56361  175345  294329  413313  532298  651282  770267  889251 1008235\n",
      " 1127220]\n"
     ]
    },
    {
     "name": "stderr",
     "output_type": "stream",
     "text": [
      "[Parallel(n_jobs=2)]: Using backend LokyBackend with 2 concurrent workers.\n",
      "[Parallel(n_jobs=2)]: Done   1 out of  30 | elapsed:    9.2s remaining:  4.4min\n",
      "[Parallel(n_jobs=2)]: Done   4 out of  30 | elapsed:   42.4s remaining:  4.6min\n",
      "[Parallel(n_jobs=2)]: Done   7 out of  30 | elapsed:  1.5min remaining:  4.8min\n",
      "[Parallel(n_jobs=2)]: Done  10 out of  30 | elapsed:  2.2min remaining:  4.4min\n",
      "[Parallel(n_jobs=2)]: Done  13 out of  30 | elapsed:  2.8min remaining:  3.6min\n",
      "[Parallel(n_jobs=2)]: Done  16 out of  30 | elapsed:  3.5min remaining:  3.1min\n",
      "[Parallel(n_jobs=2)]: Done  19 out of  30 | elapsed:  4.4min remaining:  2.5min\n",
      "[Parallel(n_jobs=2)]: Done  22 out of  30 | elapsed:  4.9min remaining:  1.8min\n",
      "[Parallel(n_jobs=2)]: Done  25 out of  30 | elapsed:  5.5min remaining:  1.1min\n",
      "[Parallel(n_jobs=2)]: Done  28 out of  30 | elapsed:  6.4min remaining:   27.5s\n",
      "[Parallel(n_jobs=2)]: Done  30 out of  30 | elapsed:  7.1min finished\n"
     ]
    },
    {
     "data": {
      "image/png": "[encoded data removed]",
      "text/plain": [
       "<Figure size 720x360 with 1 Axes>"
      ]
     },
     "metadata": {},
     "output_type": "display_data"
    }
   ],
   "source": [
    "def plot_learning_curve():\n",
    "    \n",
    "    train_sizes = np.linspace(0.05, 1, 10)\n",
    "\n",
    "    N_train, val_train, val_test = model_selection.learning_curve(gs.best_estimator_, X, y, \n",
    "                                                                  train_sizes=train_sizes, \n",
    "                                                                  cv=skf, scoring='accuracy', \n",
    "                                                                  random_state=42, verbose=13, n_jobs=2)\n",
    "\n",
    "    plt.plot(N_train, val_train.mean(axis=1), label='обучение')\n",
    "    plt.plot(N_train, val_test.mean(axis=1), label='тест')\n",
    "    plt.xlabel('размер обучающей выборки')\n",
    "    plt.ylabel('доля верных ответов')\n",
    "    plt.legend()\n",
    "\n",
    "plot_learning_curve()"
   ]
  },
  {
   "cell_type": "markdown",
   "metadata": {},
   "source": [
    "**По кривой обучения видим, что добавление новых объектов драматически повышает качество на тесте. Таким образом, только за счет добавления новых объектов можно продолжить повышение качества модели**"
   ]
  },
  {
   "cell_type": "markdown",
   "metadata": {},
   "source": [
    "### Предсказание отрасли"
   ]
  },
  {
   "cell_type": "code",
   "execution_count": 36,
   "metadata": {
    "ExecuteTime": {
     "end_time": "2019-12-01T11:11:33.775016Z",
     "start_time": "2019-12-01T11:11:32.874125Z"
    }
   },
   "outputs": [
    {
     "data": {
      "text/html": [
       "<div>\n",
       "<style scoped>\n",
       "    .dataframe tbody tr th:only-of-type {\n",
       "        vertical-align: middle;\n",
       "    }\n",
       "\n",
       "    .dataframe tbody tr th {\n",
       "        vertical-align: top;\n",
       "    }\n",
       "\n",
       "    .dataframe thead th {\n",
       "        text-align: right;\n",
       "    }\n",
       "</style>\n",
       "<table border=\"1\" class=\"dataframe\">\n",
       "  <thead>\n",
       "    <tr style=\"text-align: right;\">\n",
       "      <th></th>\n",
       "      <th>hash_inn_kt</th>\n",
       "      <th>hash_inn_dt</th>\n",
       "      <th>week</th>\n",
       "      <th>count</th>\n",
       "      <th>sum</th>\n",
       "      <th>region</th>\n",
       "    </tr>\n",
       "  </thead>\n",
       "  <tbody>\n",
       "    <tr>\n",
       "      <td>0</td>\n",
       "      <td>0</td>\n",
       "      <td>0</td>\n",
       "      <td>1</td>\n",
       "      <td>4</td>\n",
       "      <td>0.016299</td>\n",
       "      <td>84</td>\n",
       "    </tr>\n",
       "    <tr>\n",
       "      <td>1</td>\n",
       "      <td>0</td>\n",
       "      <td>0</td>\n",
       "      <td>5</td>\n",
       "      <td>2</td>\n",
       "      <td>0.000170</td>\n",
       "      <td>84</td>\n",
       "    </tr>\n",
       "    <tr>\n",
       "      <td>2</td>\n",
       "      <td>0</td>\n",
       "      <td>0</td>\n",
       "      <td>7</td>\n",
       "      <td>2</td>\n",
       "      <td>0.000034</td>\n",
       "      <td>84</td>\n",
       "    </tr>\n",
       "    <tr>\n",
       "      <td>3</td>\n",
       "      <td>0</td>\n",
       "      <td>0</td>\n",
       "      <td>9</td>\n",
       "      <td>2</td>\n",
       "      <td>0.000102</td>\n",
       "      <td>84</td>\n",
       "    </tr>\n",
       "    <tr>\n",
       "      <td>4</td>\n",
       "      <td>0</td>\n",
       "      <td>0</td>\n",
       "      <td>12</td>\n",
       "      <td>2</td>\n",
       "      <td>0.000034</td>\n",
       "      <td>84</td>\n",
       "    </tr>\n",
       "  </tbody>\n",
       "</table>\n",
       "</div>"
      ],
      "text/plain": [
       "   hash_inn_kt  hash_inn_dt  week  count       sum  region\n",
       "0            0            0     1      4  0.016299      84\n",
       "1            0            0     5      2  0.000170      84\n",
       "2            0            0     7      2  0.000034      84\n",
       "3            0            0     9      2  0.000102      84\n",
       "4            0            0    12      2  0.000034      84"
      ]
     },
     "execution_count": 36,
     "metadata": {},
     "output_type": "execute_result"
    }
   ],
   "source": [
    "X_prediction = pd.read_csv('prediction_set.csv')\n",
    "hash_inn = X_prediction.hash_inn\n",
    "X_prediction.drop(['hash_inn', 'okved2'], axis=1, inplace=True)\n",
    "X_prediction['sum'] = (X_prediction['sum'] - X_prediction['sum'].min()) / (X_prediction['sum'].max() - X_prediction['sum'].min())\n",
    "X_prediction.head()"
   ]
  },
  {
   "cell_type": "code",
   "execution_count": 37,
   "metadata": {
    "ExecuteTime": {
     "end_time": "2019-12-01T11:12:10.027312Z",
     "start_time": "2019-12-01T11:11:37.403178Z"
    }
   },
   "outputs": [],
   "source": [
    "y_predicted = gs.best_estimator_.predict(X_prediction)"
   ]
  },
  {
   "cell_type": "markdown",
   "metadata": {},
   "source": [
    "**Для одного и того же ИНН в таблице `X_prediction` могут быть назначены различные отрасли, что связано с различиями между признаками в рамках одного ИНН - вероятно, что в этом случае модель может ошибаться. В качестве результирующей отрасли для соответствующего ИНН возьмем наиболее частую отрасль:**"
   ]
  },
  {
   "cell_type": "code",
   "execution_count": 38,
   "metadata": {
    "ExecuteTime": {
     "end_time": "2019-12-01T11:12:12.297566Z",
     "start_time": "2019-12-01T11:12:12.291198Z"
    }
   },
   "outputs": [],
   "source": [
    "def most_frequent(g):\n",
    "    return g.value_counts().index[0]"
   ]
  },
  {
   "cell_type": "code",
   "execution_count": 39,
   "metadata": {
    "ExecuteTime": {
     "end_time": "2019-12-01T11:12:53.619680Z",
     "start_time": "2019-12-01T11:12:13.458382Z"
    }
   },
   "outputs": [],
   "source": [
    "result = pd.DataFrame({'hash_inn': hash_inn, 'y': y_predicted}).groupby('hash_inn', \n",
    "                                                                        as_index=False).agg(most_frequent)"
   ]
  },
  {
   "cell_type": "code",
   "execution_count": 40,
   "metadata": {
    "ExecuteTime": {
     "end_time": "2019-12-01T11:12:55.680164Z",
     "start_time": "2019-12-01T11:12:55.669721Z"
    }
   },
   "outputs": [
    {
     "data": {
      "text/html": [
       "<div>\n",
       "<style scoped>\n",
       "    .dataframe tbody tr th:only-of-type {\n",
       "        vertical-align: middle;\n",
       "    }\n",
       "\n",
       "    .dataframe tbody tr th {\n",
       "        vertical-align: top;\n",
       "    }\n",
       "\n",
       "    .dataframe thead th {\n",
       "        text-align: right;\n",
       "    }\n",
       "</style>\n",
       "<table border=\"1\" class=\"dataframe\">\n",
       "  <thead>\n",
       "    <tr style=\"text-align: right;\">\n",
       "      <th></th>\n",
       "      <th>hash_inn</th>\n",
       "      <th>y</th>\n",
       "    </tr>\n",
       "  </thead>\n",
       "  <tbody>\n",
       "    <tr>\n",
       "      <td>0</td>\n",
       "      <td>0</td>\n",
       "      <td>52</td>\n",
       "    </tr>\n",
       "    <tr>\n",
       "      <td>1</td>\n",
       "      <td>2</td>\n",
       "      <td>11</td>\n",
       "    </tr>\n",
       "    <tr>\n",
       "      <td>2</td>\n",
       "      <td>4</td>\n",
       "      <td>52</td>\n",
       "    </tr>\n",
       "    <tr>\n",
       "      <td>3</td>\n",
       "      <td>6</td>\n",
       "      <td>47</td>\n",
       "    </tr>\n",
       "    <tr>\n",
       "      <td>4</td>\n",
       "      <td>9</td>\n",
       "      <td>53</td>\n",
       "    </tr>\n",
       "  </tbody>\n",
       "</table>\n",
       "</div>"
      ],
      "text/plain": [
       "   hash_inn   y\n",
       "0         0  52\n",
       "1         2  11\n",
       "2         4  52\n",
       "3         6  47\n",
       "4         9  53"
      ]
     },
     "execution_count": 40,
     "metadata": {},
     "output_type": "execute_result"
    }
   ],
   "source": [
    "result.head()"
   ]
  },
  {
   "cell_type": "code",
   "execution_count": 49,
   "metadata": {
    "ExecuteTime": {
     "end_time": "2019-12-01T11:13:25.465223Z",
     "start_time": "2019-12-01T11:13:25.458658Z"
    }
   },
   "outputs": [],
   "source": [
    "all_hash = pd.DataFrame({'hash_inn': all_uniq_hash_prediction})"
   ]
  },
  {
   "cell_type": "markdown",
   "metadata": {},
   "source": [
    "**Пересечем полученные результаты с таблицей, в которой представлены все ИНН: для ИНН с неизвестными данными проставим -1, для всех остальных - предсказанную моделью наиболее частую отрасль**"
   ]
  },
  {
   "cell_type": "code",
   "execution_count": 102,
   "metadata": {
    "ExecuteTime": {
     "end_time": "2019-12-01T12:52:03.994693Z",
     "start_time": "2019-12-01T12:52:03.957906Z"
    }
   },
   "outputs": [
    {
     "data": {
      "text/html": [
       "<div>\n",
       "<style scoped>\n",
       "    .dataframe tbody tr th:only-of-type {\n",
       "        vertical-align: middle;\n",
       "    }\n",
       "\n",
       "    .dataframe tbody tr th {\n",
       "        vertical-align: top;\n",
       "    }\n",
       "\n",
       "    .dataframe thead th {\n",
       "        text-align: right;\n",
       "    }\n",
       "</style>\n",
       "<table border=\"1\" class=\"dataframe\">\n",
       "  <thead>\n",
       "    <tr style=\"text-align: right;\">\n",
       "      <th></th>\n",
       "      <th>hash_inn</th>\n",
       "      <th>y</th>\n",
       "    </tr>\n",
       "  </thead>\n",
       "  <tbody>\n",
       "    <tr>\n",
       "      <td>0</td>\n",
       "      <td>0</td>\n",
       "      <td>52</td>\n",
       "    </tr>\n",
       "    <tr>\n",
       "      <td>1</td>\n",
       "      <td>2</td>\n",
       "      <td>11</td>\n",
       "    </tr>\n",
       "    <tr>\n",
       "      <td>2</td>\n",
       "      <td>4</td>\n",
       "      <td>52</td>\n",
       "    </tr>\n",
       "    <tr>\n",
       "      <td>3</td>\n",
       "      <td>6</td>\n",
       "      <td>47</td>\n",
       "    </tr>\n",
       "    <tr>\n",
       "      <td>4</td>\n",
       "      <td>9</td>\n",
       "      <td>53</td>\n",
       "    </tr>\n",
       "  </tbody>\n",
       "</table>\n",
       "</div>"
      ],
      "text/plain": [
       "   hash_inn   y\n",
       "0         0  52\n",
       "1         2  11\n",
       "2         4  52\n",
       "3         6  47\n",
       "4         9  53"
      ]
     },
     "execution_count": 102,
     "metadata": {},
     "output_type": "execute_result"
    }
   ],
   "source": [
    "result = pd.merge(left=result, right=all_hash, on='hash_inn', how='right')\n",
    "result.y.fillna(-1, inplace=True)\n",
    "result.sort_values(by='hash_inn', inplace=True)\n",
    "result.y = result.y.astype(int)\n",
    "result.head()"
   ]
  },
  {
   "cell_type": "code",
   "execution_count": 103,
   "metadata": {
    "ExecuteTime": {
     "end_time": "2019-12-01T12:52:11.130801Z",
     "start_time": "2019-12-01T12:52:11.125106Z"
    }
   },
   "outputs": [
    {
     "data": {
      "text/plain": [
       "(78654, 2)"
      ]
     },
     "execution_count": 103,
     "metadata": {},
     "output_type": "execute_result"
    }
   ],
   "source": [
    "result.shape"
   ]
  },
  {
   "cell_type": "markdown",
   "metadata": {},
   "source": [
    "## Повышение точности лучшей baseline модели"
   ]
  },
  {
   "cell_type": "code",
   "execution_count": 110,
   "metadata": {
    "ExecuteTime": {
     "end_time": "2019-12-01T09:28:54.528758Z",
     "start_time": "2019-12-01T09:28:54.523414Z"
    }
   },
   "outputs": [],
   "source": [
    "skf = model_selection.StratifiedKFold(n_splits=3, shuffle=True, random_state=42)"
   ]
  },
  {
   "cell_type": "markdown",
   "metadata": {},
   "source": [
    "### Полиномиальное преобразование признаков `count` и `sum`"
   ]
  },
  {
   "cell_type": "markdown",
   "metadata": {},
   "source": [
    "**В данном случае возьмем в качестве дополнительных признаков полином степени два от признаков `count` и `sum` и повторно оценим качество классификации алгоритмом ближайших соседей**"
   ]
  },
  {
   "cell_type": "code",
   "execution_count": 25,
   "metadata": {
    "ExecuteTime": {
     "end_time": "2019-12-01T10:29:15.867665Z",
     "start_time": "2019-12-01T10:29:15.858276Z"
    }
   },
   "outputs": [
    {
     "data": {
      "text/html": [
       "<div>\n",
       "<style scoped>\n",
       "    .dataframe tbody tr th:only-of-type {\n",
       "        vertical-align: middle;\n",
       "    }\n",
       "\n",
       "    .dataframe tbody tr th {\n",
       "        vertical-align: top;\n",
       "    }\n",
       "\n",
       "    .dataframe thead th {\n",
       "        text-align: right;\n",
       "    }\n",
       "</style>\n",
       "<table border=\"1\" class=\"dataframe\">\n",
       "  <thead>\n",
       "    <tr style=\"text-align: right;\">\n",
       "      <th></th>\n",
       "      <th>hash_inn_kt</th>\n",
       "      <th>hash_inn_dt</th>\n",
       "      <th>week</th>\n",
       "      <th>count</th>\n",
       "      <th>sum</th>\n",
       "      <th>region</th>\n",
       "    </tr>\n",
       "  </thead>\n",
       "  <tbody>\n",
       "    <tr>\n",
       "      <td>0</td>\n",
       "      <td>129670</td>\n",
       "      <td>192730</td>\n",
       "      <td>9</td>\n",
       "      <td>2</td>\n",
       "      <td>0.000001</td>\n",
       "      <td>23</td>\n",
       "    </tr>\n",
       "    <tr>\n",
       "      <td>1</td>\n",
       "      <td>98098</td>\n",
       "      <td>113887</td>\n",
       "      <td>4</td>\n",
       "      <td>2</td>\n",
       "      <td>0.000079</td>\n",
       "      <td>86</td>\n",
       "    </tr>\n",
       "    <tr>\n",
       "      <td>2</td>\n",
       "      <td>71166</td>\n",
       "      <td>243907</td>\n",
       "      <td>17</td>\n",
       "      <td>3</td>\n",
       "      <td>0.000002</td>\n",
       "      <td>28</td>\n",
       "    </tr>\n",
       "    <tr>\n",
       "      <td>3</td>\n",
       "      <td>68412</td>\n",
       "      <td>216590</td>\n",
       "      <td>3</td>\n",
       "      <td>2</td>\n",
       "      <td>0.000013</td>\n",
       "      <td>26</td>\n",
       "    </tr>\n",
       "    <tr>\n",
       "      <td>4</td>\n",
       "      <td>218472</td>\n",
       "      <td>25060</td>\n",
       "      <td>10</td>\n",
       "      <td>1</td>\n",
       "      <td>0.000007</td>\n",
       "      <td>1</td>\n",
       "    </tr>\n",
       "  </tbody>\n",
       "</table>\n",
       "</div>"
      ],
      "text/plain": [
       "   hash_inn_kt  hash_inn_dt  week  count       sum  region\n",
       "0       129670       192730     9      2  0.000001      23\n",
       "1        98098       113887     4      2  0.000079      86\n",
       "2        71166       243907    17      3  0.000002      28\n",
       "3        68412       216590     3      2  0.000013      26\n",
       "4       218472        25060    10      1  0.000007       1"
      ]
     },
     "execution_count": 25,
     "metadata": {},
     "output_type": "execute_result"
    }
   ],
   "source": [
    "X.head()"
   ]
  },
  {
   "cell_type": "code",
   "execution_count": 30,
   "metadata": {
    "ExecuteTime": {
     "end_time": "2019-12-01T10:30:05.130318Z",
     "start_time": "2019-12-01T10:30:04.939784Z"
    }
   },
   "outputs": [
    {
     "data": {
      "text/html": [
       "<div>\n",
       "<style scoped>\n",
       "    .dataframe tbody tr th:only-of-type {\n",
       "        vertical-align: middle;\n",
       "    }\n",
       "\n",
       "    .dataframe tbody tr th {\n",
       "        vertical-align: top;\n",
       "    }\n",
       "\n",
       "    .dataframe thead th {\n",
       "        text-align: right;\n",
       "    }\n",
       "</style>\n",
       "<table border=\"1\" class=\"dataframe\">\n",
       "  <thead>\n",
       "    <tr style=\"text-align: right;\">\n",
       "      <th></th>\n",
       "      <th>hash_inn_kt</th>\n",
       "      <th>hash_inn_dt</th>\n",
       "      <th>week</th>\n",
       "      <th>count</th>\n",
       "      <th>sum</th>\n",
       "      <th>region</th>\n",
       "      <th>3</th>\n",
       "      <th>4</th>\n",
       "      <th>5</th>\n",
       "    </tr>\n",
       "  </thead>\n",
       "  <tbody>\n",
       "    <tr>\n",
       "      <td>0</td>\n",
       "      <td>129670</td>\n",
       "      <td>192730</td>\n",
       "      <td>9</td>\n",
       "      <td>2</td>\n",
       "      <td>0.000001</td>\n",
       "      <td>23</td>\n",
       "      <td>4.0</td>\n",
       "      <td>0.000003</td>\n",
       "      <td>1.936801e-12</td>\n",
       "    </tr>\n",
       "    <tr>\n",
       "      <td>1</td>\n",
       "      <td>98098</td>\n",
       "      <td>113887</td>\n",
       "      <td>4</td>\n",
       "      <td>2</td>\n",
       "      <td>0.000079</td>\n",
       "      <td>86</td>\n",
       "      <td>4.0</td>\n",
       "      <td>0.000158</td>\n",
       "      <td>6.273164e-09</td>\n",
       "    </tr>\n",
       "    <tr>\n",
       "      <td>2</td>\n",
       "      <td>71166</td>\n",
       "      <td>243907</td>\n",
       "      <td>17</td>\n",
       "      <td>3</td>\n",
       "      <td>0.000002</td>\n",
       "      <td>28</td>\n",
       "      <td>9.0</td>\n",
       "      <td>0.000005</td>\n",
       "      <td>2.411950e-12</td>\n",
       "    </tr>\n",
       "    <tr>\n",
       "      <td>3</td>\n",
       "      <td>68412</td>\n",
       "      <td>216590</td>\n",
       "      <td>3</td>\n",
       "      <td>2</td>\n",
       "      <td>0.000013</td>\n",
       "      <td>26</td>\n",
       "      <td>4.0</td>\n",
       "      <td>0.000026</td>\n",
       "      <td>1.737313e-10</td>\n",
       "    </tr>\n",
       "    <tr>\n",
       "      <td>4</td>\n",
       "      <td>218472</td>\n",
       "      <td>25060</td>\n",
       "      <td>10</td>\n",
       "      <td>1</td>\n",
       "      <td>0.000007</td>\n",
       "      <td>1</td>\n",
       "      <td>1.0</td>\n",
       "      <td>0.000007</td>\n",
       "      <td>4.827979e-11</td>\n",
       "    </tr>\n",
       "  </tbody>\n",
       "</table>\n",
       "</div>"
      ],
      "text/plain": [
       "   hash_inn_kt  hash_inn_dt  week  count       sum  region    3         4  \\\n",
       "0       129670       192730     9      2  0.000001      23  4.0  0.000003   \n",
       "1        98098       113887     4      2  0.000079      86  4.0  0.000158   \n",
       "2        71166       243907    17      3  0.000002      28  9.0  0.000005   \n",
       "3        68412       216590     3      2  0.000013      26  4.0  0.000026   \n",
       "4       218472        25060    10      1  0.000007       1  1.0  0.000007   \n",
       "\n",
       "              5  \n",
       "0  1.936801e-12  \n",
       "1  6.273164e-09  \n",
       "2  2.411950e-12  \n",
       "3  1.737313e-10  \n",
       "4  4.827979e-11  "
      ]
     },
     "execution_count": 30,
     "metadata": {},
     "output_type": "execute_result"
    }
   ],
   "source": [
    "poly = preprocessing.PolynomialFeatures(degree=2)\n",
    "\n",
    "X_poly = poly.fit_transform(X[['count', 'sum']])\n",
    "X_poly = pd.concat([X, pd.DataFrame(X_poly).loc[:, 3:]], axis=1)\n",
    "X_poly.head()"
   ]
  },
  {
   "cell_type": "code",
   "execution_count": 31,
   "metadata": {
    "ExecuteTime": {
     "end_time": "2019-12-01T11:08:46.558199Z",
     "start_time": "2019-12-01T10:30:14.661135Z"
    },
    "scrolled": true
   },
   "outputs": [
    {
     "name": "stderr",
     "output_type": "stream",
     "text": [
      "[Parallel(n_jobs=2)]: Using backend LokyBackend with 2 concurrent workers.\n",
      "[Parallel(n_jobs=2)]: Done   1 tasks      | elapsed: 24.6min\n",
      "[Parallel(n_jobs=2)]: Done   3 out of   3 | elapsed: 38.5min remaining:    0.0s\n",
      "[Parallel(n_jobs=2)]: Done   3 out of   3 | elapsed: 38.5min finished\n"
     ]
    }
   ],
   "source": [
    "model = neighbors.KNeighborsClassifier(algorithm='ball_tree', leaf_size=30, metric='minkowski',\n",
    "                                       metric_params=None, n_neighbors=11, p=1,\n",
    "                                       weights='distance')\n",
    "\n",
    "score = model_selection.cross_val_score(model, X_poly, y, scoring='accuracy', cv=skf, n_jobs=2, verbose=13).mean()"
   ]
  },
  {
   "cell_type": "code",
   "execution_count": 32,
   "metadata": {
    "ExecuteTime": {
     "end_time": "2019-12-01T11:08:46.571046Z",
     "start_time": "2019-12-01T11:08:46.561817Z"
    }
   },
   "outputs": [
    {
     "data": {
      "text/plain": [
       "0.805238264712874"
      ]
     },
     "execution_count": 32,
     "metadata": {},
     "output_type": "execute_result"
    }
   ],
   "source": [
    "score"
   ]
  },
  {
   "cell_type": "markdown",
   "metadata": {},
   "source": [
    "**Видим, что качество не улучшилось - подход не оправдал себя**"
   ]
  },
  {
   "cell_type": "markdown",
   "metadata": {},
   "source": [
    "### Обучение на признаках, сгенерированных другими моделями"
   ]
  },
  {
   "cell_type": "markdown",
   "metadata": {},
   "source": [
    "**В данном случае возьмем в качестве дополнительного признака предсказания `LGBMClassifier` и повторно оценим качество классификации алгоритмом ближайших соседей**"
   ]
  },
  {
   "cell_type": "code",
   "execution_count": 8,
   "metadata": {
    "ExecuteTime": {
     "end_time": "2019-12-01T09:51:29.016672Z",
     "start_time": "2019-12-01T09:51:29.013617Z"
    }
   },
   "outputs": [],
   "source": [
    "skf = model_selection.StratifiedKFold(n_splits=3, shuffle=True, random_state=42)"
   ]
  },
  {
   "cell_type": "code",
   "execution_count": 9,
   "metadata": {
    "ExecuteTime": {
     "end_time": "2019-12-01T09:51:29.944229Z",
     "start_time": "2019-12-01T09:51:29.938957Z"
    }
   },
   "outputs": [],
   "source": [
    "model_ = LGBMClassifier(random_state=42, objective='multiclass')"
   ]
  },
  {
   "cell_type": "code",
   "execution_count": 10,
   "metadata": {
    "ExecuteTime": {
     "end_time": "2019-12-01T09:51:30.530405Z",
     "start_time": "2019-12-01T09:51:30.509010Z"
    }
   },
   "outputs": [
    {
     "data": {
      "text/html": [
       "<div>\n",
       "<style scoped>\n",
       "    .dataframe tbody tr th:only-of-type {\n",
       "        vertical-align: middle;\n",
       "    }\n",
       "\n",
       "    .dataframe tbody tr th {\n",
       "        vertical-align: top;\n",
       "    }\n",
       "\n",
       "    .dataframe thead th {\n",
       "        text-align: right;\n",
       "    }\n",
       "</style>\n",
       "<table border=\"1\" class=\"dataframe\">\n",
       "  <thead>\n",
       "    <tr style=\"text-align: right;\">\n",
       "      <th></th>\n",
       "      <th>hash_inn_kt</th>\n",
       "      <th>hash_inn_dt</th>\n",
       "      <th>week</th>\n",
       "      <th>count</th>\n",
       "      <th>sum</th>\n",
       "      <th>region</th>\n",
       "      <th>y_</th>\n",
       "    </tr>\n",
       "  </thead>\n",
       "  <tbody>\n",
       "    <tr>\n",
       "      <td>0</td>\n",
       "      <td>129670</td>\n",
       "      <td>192730</td>\n",
       "      <td>9</td>\n",
       "      <td>2</td>\n",
       "      <td>0.000001</td>\n",
       "      <td>23</td>\n",
       "      <td>0</td>\n",
       "    </tr>\n",
       "    <tr>\n",
       "      <td>1</td>\n",
       "      <td>98098</td>\n",
       "      <td>113887</td>\n",
       "      <td>4</td>\n",
       "      <td>2</td>\n",
       "      <td>0.000079</td>\n",
       "      <td>86</td>\n",
       "      <td>0</td>\n",
       "    </tr>\n",
       "    <tr>\n",
       "      <td>2</td>\n",
       "      <td>71166</td>\n",
       "      <td>243907</td>\n",
       "      <td>17</td>\n",
       "      <td>3</td>\n",
       "      <td>0.000002</td>\n",
       "      <td>28</td>\n",
       "      <td>0</td>\n",
       "    </tr>\n",
       "    <tr>\n",
       "      <td>3</td>\n",
       "      <td>68412</td>\n",
       "      <td>216590</td>\n",
       "      <td>3</td>\n",
       "      <td>2</td>\n",
       "      <td>0.000013</td>\n",
       "      <td>26</td>\n",
       "      <td>0</td>\n",
       "    </tr>\n",
       "    <tr>\n",
       "      <td>4</td>\n",
       "      <td>218472</td>\n",
       "      <td>25060</td>\n",
       "      <td>10</td>\n",
       "      <td>1</td>\n",
       "      <td>0.000007</td>\n",
       "      <td>1</td>\n",
       "      <td>0</td>\n",
       "    </tr>\n",
       "  </tbody>\n",
       "</table>\n",
       "</div>"
      ],
      "text/plain": [
       "   hash_inn_kt  hash_inn_dt  week  count       sum  region  y_\n",
       "0       129670       192730     9      2  0.000001      23   0\n",
       "1        98098       113887     4      2  0.000079      86   0\n",
       "2        71166       243907    17      3  0.000002      28   0\n",
       "3        68412       216590     3      2  0.000013      26   0\n",
       "4       218472        25060    10      1  0.000007       1   0"
      ]
     },
     "execution_count": 10,
     "metadata": {},
     "output_type": "execute_result"
    }
   ],
   "source": [
    "X_extended = X.copy()\n",
    "X_extended['y_'] = 0\n",
    "X_extended.head()"
   ]
  },
  {
   "cell_type": "code",
   "execution_count": 11,
   "metadata": {
    "ExecuteTime": {
     "end_time": "2019-12-01T10:24:33.687575Z",
     "start_time": "2019-12-01T09:51:32.614261Z"
    }
   },
   "outputs": [],
   "source": [
    "for train_index, test_index in skf.split(X, y):\n",
    "    X_train, X_test = X.loc[train_index], X.loc[test_index]\n",
    "    y_train, y_test = y[train_index], y[test_index]\n",
    "    model_.fit(X_train, y_train, verbose=True)\n",
    "    y_predicted_ = model_.predict(X_test)\n",
    "    X_extended.loc[test_index, 'y_'] = y_predicted_"
   ]
  },
  {
   "cell_type": "code",
   "execution_count": 12,
   "metadata": {
    "ExecuteTime": {
     "end_time": "2019-12-01T10:25:06.427587Z",
     "start_time": "2019-12-01T10:25:06.417082Z"
    }
   },
   "outputs": [
    {
     "data": {
      "text/html": [
       "<div>\n",
       "<style scoped>\n",
       "    .dataframe tbody tr th:only-of-type {\n",
       "        vertical-align: middle;\n",
       "    }\n",
       "\n",
       "    .dataframe tbody tr th {\n",
       "        vertical-align: top;\n",
       "    }\n",
       "\n",
       "    .dataframe thead th {\n",
       "        text-align: right;\n",
       "    }\n",
       "</style>\n",
       "<table border=\"1\" class=\"dataframe\">\n",
       "  <thead>\n",
       "    <tr style=\"text-align: right;\">\n",
       "      <th></th>\n",
       "      <th>hash_inn_kt</th>\n",
       "      <th>hash_inn_dt</th>\n",
       "      <th>week</th>\n",
       "      <th>count</th>\n",
       "      <th>sum</th>\n",
       "      <th>region</th>\n",
       "      <th>y_</th>\n",
       "    </tr>\n",
       "  </thead>\n",
       "  <tbody>\n",
       "    <tr>\n",
       "      <td>0</td>\n",
       "      <td>129670</td>\n",
       "      <td>192730</td>\n",
       "      <td>9</td>\n",
       "      <td>2</td>\n",
       "      <td>0.000001</td>\n",
       "      <td>23</td>\n",
       "      <td>75</td>\n",
       "    </tr>\n",
       "    <tr>\n",
       "      <td>1</td>\n",
       "      <td>98098</td>\n",
       "      <td>113887</td>\n",
       "      <td>4</td>\n",
       "      <td>2</td>\n",
       "      <td>0.000079</td>\n",
       "      <td>86</td>\n",
       "      <td>43</td>\n",
       "    </tr>\n",
       "    <tr>\n",
       "      <td>2</td>\n",
       "      <td>71166</td>\n",
       "      <td>243907</td>\n",
       "      <td>17</td>\n",
       "      <td>3</td>\n",
       "      <td>0.000002</td>\n",
       "      <td>28</td>\n",
       "      <td>42</td>\n",
       "    </tr>\n",
       "    <tr>\n",
       "      <td>3</td>\n",
       "      <td>68412</td>\n",
       "      <td>216590</td>\n",
       "      <td>3</td>\n",
       "      <td>2</td>\n",
       "      <td>0.000013</td>\n",
       "      <td>26</td>\n",
       "      <td>48</td>\n",
       "    </tr>\n",
       "    <tr>\n",
       "      <td>4</td>\n",
       "      <td>218472</td>\n",
       "      <td>25060</td>\n",
       "      <td>10</td>\n",
       "      <td>1</td>\n",
       "      <td>0.000007</td>\n",
       "      <td>1</td>\n",
       "      <td>16</td>\n",
       "    </tr>\n",
       "  </tbody>\n",
       "</table>\n",
       "</div>"
      ],
      "text/plain": [
       "   hash_inn_kt  hash_inn_dt  week  count       sum  region  y_\n",
       "0       129670       192730     9      2  0.000001      23  75\n",
       "1        98098       113887     4      2  0.000079      86  43\n",
       "2        71166       243907    17      3  0.000002      28  42\n",
       "3        68412       216590     3      2  0.000013      26  48\n",
       "4       218472        25060    10      1  0.000007       1  16"
      ]
     },
     "execution_count": 12,
     "metadata": {},
     "output_type": "execute_result"
    }
   ],
   "source": [
    "X_extended.head()"
   ]
  },
  {
   "cell_type": "code",
   "execution_count": 13,
   "metadata": {
    "ExecuteTime": {
     "end_time": "2019-12-01T10:25:54.593353Z",
     "start_time": "2019-12-01T10:25:20.990328Z"
    }
   },
   "outputs": [
    {
     "name": "stderr",
     "output_type": "stream",
     "text": [
      "[Parallel(n_jobs=2)]: Using backend LokyBackend with 2 concurrent workers.\n",
      "[Parallel(n_jobs=2)]: Done   1 tasks      | elapsed:   18.9s\n",
      "[Parallel(n_jobs=2)]: Done   3 out of   3 | elapsed:   33.5s remaining:    0.0s\n",
      "[Parallel(n_jobs=2)]: Done   3 out of   3 | elapsed:   33.5s finished\n"
     ]
    }
   ],
   "source": [
    "model = neighbors.KNeighborsClassifier(algorithm='ball_tree', leaf_size=30, metric='minkowski',\n",
    "                                       metric_params=None, n_neighbors=11, p=1,\n",
    "                                       weights='distance')\n",
    "\n",
    "score = model_selection.cross_val_score(model, X_extended, y, scoring='accuracy', cv=skf, n_jobs=2, verbose=13).mean()"
   ]
  },
  {
   "cell_type": "code",
   "execution_count": 14,
   "metadata": {
    "ExecuteTime": {
     "end_time": "2019-12-01T10:26:20.715159Z",
     "start_time": "2019-12-01T10:26:20.710546Z"
    }
   },
   "outputs": [
    {
     "data": {
      "text/plain": [
       "0.8028803041330979"
      ]
     },
     "execution_count": 14,
     "metadata": {},
     "output_type": "execute_result"
    }
   ],
   "source": [
    "score"
   ]
  },
  {
   "cell_type": "markdown",
   "metadata": {},
   "source": [
    "**Видим, что качество не улучшилось - подход не оправдал себя. Возможно требуется повторить GridSearch**"
   ]
  },
  {
   "cell_type": "markdown",
   "metadata": {},
   "source": [
    "## Тестирование регрессионной модели для задачи классификации"
   ]
  },
  {
   "cell_type": "markdown",
   "metadata": {},
   "source": [
    "**В качестве примера приведем возможность использования регрессионной модели для решения задачи классификации. Будем использовать `KNeighborsRegressor`**"
   ]
  },
  {
   "cell_type": "code",
   "execution_count": 15,
   "metadata": {
    "ExecuteTime": {
     "end_time": "2019-12-01T10:26:35.020801Z",
     "start_time": "2019-12-01T10:26:35.017295Z"
    }
   },
   "outputs": [],
   "source": [
    "skf = model_selection.StratifiedKFold(n_splits=3, shuffle=True, random_state=42)"
   ]
  },
  {
   "cell_type": "code",
   "execution_count": 17,
   "metadata": {
    "ExecuteTime": {
     "end_time": "2019-12-01T10:26:44.597033Z",
     "start_time": "2019-12-01T10:26:44.594226Z"
    }
   },
   "outputs": [],
   "source": [
    "model = neighbors.KNeighborsRegressor()"
   ]
  },
  {
   "cell_type": "code",
   "execution_count": 18,
   "metadata": {
    "ExecuteTime": {
     "end_time": "2019-12-01T10:27:19.767777Z",
     "start_time": "2019-12-01T10:27:02.168713Z"
    }
   },
   "outputs": [],
   "source": [
    "scores = []\n",
    "\n",
    "for train_index, test_index in skf.split(X, y):\n",
    "    X_train, X_test = X.loc[train_index], X.loc[test_index]\n",
    "    y_train, y_test = y[train_index], y[test_index]\n",
    "    model.fit(X_train, y_train, verbose=True)\n",
    "    y_predicted = model.predict(X_test)\n",
    "    y_predicted = [int(round(x)) for x in y_predicted]\n",
    "\n",
    "    scores.append(metrics.accuracy_score(y_test, y_predicted))"
   ]
  },
  {
   "cell_type": "code",
   "execution_count": 19,
   "metadata": {
    "ExecuteTime": {
     "end_time": "2019-12-01T10:27:23.772498Z",
     "start_time": "2019-12-01T10:27:23.768661Z"
    }
   },
   "outputs": [
    {
     "name": "stdout",
     "output_type": "stream",
     "text": [
      "0.3807108229190874\n"
     ]
    }
   ],
   "source": [
    "print(np.mean(scores))"
   ]
  },
  {
   "cell_type": "markdown",
   "metadata": {},
   "source": [
    "**Получаю очень низкое качество классификации. Данный подход работает, но не так хорошо, как аналогичный алгоритм классификации, к сожалению**"
   ]
  },
  {
   "cell_type": "markdown",
   "metadata": {},
   "source": [
    "## Поиск baseline на альтернативной обучающей выборке"
   ]
  },
  {
   "cell_type": "code",
   "execution_count": 92,
   "metadata": {
    "ExecuteTime": {
     "end_time": "2019-12-01T11:56:17.784140Z",
     "start_time": "2019-12-01T11:56:17.661840Z"
    }
   },
   "outputs": [
    {
     "data": {
      "text/html": [
       "<div>\n",
       "<style scoped>\n",
       "    .dataframe tbody tr th:only-of-type {\n",
       "        vertical-align: middle;\n",
       "    }\n",
       "\n",
       "    .dataframe tbody tr th {\n",
       "        vertical-align: top;\n",
       "    }\n",
       "\n",
       "    .dataframe thead th {\n",
       "        text-align: right;\n",
       "    }\n",
       "</style>\n",
       "<table border=\"1\" class=\"dataframe\">\n",
       "  <thead>\n",
       "    <tr style=\"text-align: right;\">\n",
       "      <th></th>\n",
       "      <th>inn</th>\n",
       "      <th>max_sum</th>\n",
       "      <th>min_sum</th>\n",
       "      <th>mean_sum</th>\n",
       "      <th>max_count</th>\n",
       "      <th>min_count</th>\n",
       "      <th>mean_count</th>\n",
       "      <th>inn_dt</th>\n",
       "      <th>week</th>\n",
       "      <th>region</th>\n",
       "      <th>okved2</th>\n",
       "    </tr>\n",
       "  </thead>\n",
       "  <tbody>\n",
       "    <tr>\n",
       "      <td>0</td>\n",
       "      <td>1</td>\n",
       "      <td>25.200</td>\n",
       "      <td>12.400</td>\n",
       "      <td>19.714286</td>\n",
       "      <td>2</td>\n",
       "      <td>2</td>\n",
       "      <td>2.000000</td>\n",
       "      <td>31310</td>\n",
       "      <td>15</td>\n",
       "      <td>26</td>\n",
       "      <td>62</td>\n",
       "    </tr>\n",
       "    <tr>\n",
       "      <td>1</td>\n",
       "      <td>3</td>\n",
       "      <td>13.948</td>\n",
       "      <td>13.948</td>\n",
       "      <td>13.948000</td>\n",
       "      <td>1</td>\n",
       "      <td>1</td>\n",
       "      <td>1.000000</td>\n",
       "      <td>17473</td>\n",
       "      <td>15</td>\n",
       "      <td>60</td>\n",
       "      <td>29</td>\n",
       "    </tr>\n",
       "    <tr>\n",
       "      <td>2</td>\n",
       "      <td>5</td>\n",
       "      <td>31.936</td>\n",
       "      <td>0.556</td>\n",
       "      <td>13.496364</td>\n",
       "      <td>6</td>\n",
       "      <td>1</td>\n",
       "      <td>2.090909</td>\n",
       "      <td>230506</td>\n",
       "      <td>22</td>\n",
       "      <td>85</td>\n",
       "      <td>14</td>\n",
       "    </tr>\n",
       "    <tr>\n",
       "      <td>3</td>\n",
       "      <td>7</td>\n",
       "      <td>3244.836</td>\n",
       "      <td>8.420</td>\n",
       "      <td>882.672842</td>\n",
       "      <td>15</td>\n",
       "      <td>1</td>\n",
       "      <td>3.684211</td>\n",
       "      <td>214170</td>\n",
       "      <td>8</td>\n",
       "      <td>18</td>\n",
       "      <td>12</td>\n",
       "    </tr>\n",
       "    <tr>\n",
       "      <td>4</td>\n",
       "      <td>8</td>\n",
       "      <td>643.880</td>\n",
       "      <td>6.128</td>\n",
       "      <td>181.044000</td>\n",
       "      <td>2</td>\n",
       "      <td>2</td>\n",
       "      <td>2.000000</td>\n",
       "      <td>238660</td>\n",
       "      <td>19</td>\n",
       "      <td>60</td>\n",
       "      <td>11</td>\n",
       "    </tr>\n",
       "  </tbody>\n",
       "</table>\n",
       "</div>"
      ],
      "text/plain": [
       "   inn   max_sum  min_sum    mean_sum  max_count  min_count  mean_count  \\\n",
       "0    1    25.200   12.400   19.714286          2          2    2.000000   \n",
       "1    3    13.948   13.948   13.948000          1          1    1.000000   \n",
       "2    5    31.936    0.556   13.496364          6          1    2.090909   \n",
       "3    7  3244.836    8.420  882.672842         15          1    3.684211   \n",
       "4    8   643.880    6.128  181.044000          2          2    2.000000   \n",
       "\n",
       "   inn_dt  week  region  okved2  \n",
       "0   31310    15      26      62  \n",
       "1   17473    15      60      29  \n",
       "2  230506    22      85      14  \n",
       "3  214170     8      18      12  \n",
       "4  238660    19      60      11  "
      ]
     },
     "execution_count": 92,
     "metadata": {},
     "output_type": "execute_result"
    }
   ],
   "source": [
    "df_train_alt = pd.read_csv('training_set_alt.csv')\n",
    "df_train_alt.head()"
   ]
  },
  {
   "cell_type": "code",
   "execution_count": 93,
   "metadata": {
    "ExecuteTime": {
     "end_time": "2019-12-01T11:56:58.754960Z",
     "start_time": "2019-12-01T11:56:58.741695Z"
    }
   },
   "outputs": [],
   "source": [
    "X = df_train_alt.drop('okved2', axis=1)\n",
    "y = df_train_alt.okved2.values"
   ]
  },
  {
   "cell_type": "markdown",
   "metadata": {},
   "source": [
    "**Преобразуем признаки в `int32` и `float32`, чтобы уменьшить потребление памяти**"
   ]
  },
  {
   "cell_type": "code",
   "execution_count": 95,
   "metadata": {
    "ExecuteTime": {
     "end_time": "2019-12-01T11:58:23.376158Z",
     "start_time": "2019-12-01T11:58:23.350636Z"
    }
   },
   "outputs": [],
   "source": [
    "for c in X.columns:\n",
    "    if 'sum' in c or 'count' in c:\n",
    "        X[c] = X[c].astype(np.float32)\n",
    "    else:\n",
    "        X[c] = X[c].astype(np.int32)"
   ]
  },
  {
   "cell_type": "code",
   "execution_count": 96,
   "metadata": {
    "ExecuteTime": {
     "end_time": "2019-12-01T11:58:25.680560Z",
     "start_time": "2019-12-01T11:58:25.663173Z"
    }
   },
   "outputs": [
    {
     "name": "stdout",
     "output_type": "stream",
     "text": [
      "<class 'pandas.core.frame.DataFrame'>\n",
      "RangeIndex: 102194 entries, 0 to 102193\n",
      "Data columns (total 10 columns):\n",
      "inn           102194 non-null int32\n",
      "max_sum       102194 non-null float32\n",
      "min_sum       102194 non-null float32\n",
      "mean_sum      102194 non-null float32\n",
      "max_count     102194 non-null float32\n",
      "min_count     102194 non-null float32\n",
      "mean_count    102194 non-null float32\n",
      "inn_dt        102194 non-null int32\n",
      "week          102194 non-null int32\n",
      "region        102194 non-null int32\n",
      "dtypes: float32(6), int32(4)\n",
      "memory usage: 3.9 MB\n"
     ]
    }
   ],
   "source": [
    "X.info()"
   ]
  },
  {
   "cell_type": "code",
   "execution_count": null,
   "metadata": {},
   "outputs": [],
   "source": []
  },
  {
   "cell_type": "code",
   "execution_count": 98,
   "metadata": {
    "ExecuteTime": {
     "end_time": "2019-12-01T11:58:46.879034Z",
     "start_time": "2019-12-01T11:58:46.875961Z"
    }
   },
   "outputs": [],
   "source": [
    "skf = model_selection.StratifiedKFold(n_splits=3, shuffle=True, random_state=42)"
   ]
  },
  {
   "cell_type": "code",
   "execution_count": 99,
   "metadata": {
    "ExecuteTime": {
     "end_time": "2019-12-01T12:01:55.127651Z",
     "start_time": "2019-12-01T11:59:15.504097Z"
    },
    "scrolled": true
   },
   "outputs": [
    {
     "name": "stderr",
     "output_type": "stream",
     "text": [
      "[Parallel(n_jobs=1)]: Using backend SequentialBackend with 1 concurrent workers.\n"
     ]
    },
    {
     "name": "stdout",
     "output_type": "stream",
     "text": [
      "[CV]  ................................................................\n",
      "[CV] .................................... , score=0.194, total=   1.5s\n",
      "[CV]  ................................................................\n"
     ]
    },
    {
     "name": "stderr",
     "output_type": "stream",
     "text": [
      "[Parallel(n_jobs=1)]: Done   1 out of   1 | elapsed:    1.6s remaining:    0.0s\n"
     ]
    },
    {
     "name": "stdout",
     "output_type": "stream",
     "text": [
      "[CV] .................................... , score=0.193, total=   1.5s\n",
      "[CV]  ................................................................\n"
     ]
    },
    {
     "name": "stderr",
     "output_type": "stream",
     "text": [
      "[Parallel(n_jobs=1)]: Done   2 out of   2 | elapsed:    3.2s remaining:    0.0s\n"
     ]
    },
    {
     "name": "stdout",
     "output_type": "stream",
     "text": [
      "[CV] .................................... , score=0.196, total=   1.5s\n",
      "KNeighbors 0.1944638586085943\n",
      "[CV]  ................................................................\n"
     ]
    },
    {
     "name": "stderr",
     "output_type": "stream",
     "text": [
      "[Parallel(n_jobs=1)]: Done   3 out of   3 | elapsed:    4.7s remaining:    0.0s\n",
      "[Parallel(n_jobs=1)]: Done   3 out of   3 | elapsed:    4.7s finished\n",
      "[Parallel(n_jobs=1)]: Using backend SequentialBackend with 1 concurrent workers.\n"
     ]
    },
    {
     "name": "stdout",
     "output_type": "stream",
     "text": [
      "[CV] .................................... , score=0.279, total=  53.0s\n",
      "[CV]  ................................................................\n"
     ]
    },
    {
     "name": "stderr",
     "output_type": "stream",
     "text": [
      "[Parallel(n_jobs=1)]: Done   1 out of   1 | elapsed:   53.1s remaining:    0.0s\n"
     ]
    },
    {
     "name": "stdout",
     "output_type": "stream",
     "text": [
      "[CV] .................................... , score=0.297, total=  50.2s\n",
      "[CV]  ................................................................\n"
     ]
    },
    {
     "name": "stderr",
     "output_type": "stream",
     "text": [
      "[Parallel(n_jobs=1)]: Done   2 out of   2 | elapsed:  1.7min remaining:    0.0s\n"
     ]
    },
    {
     "name": "stdout",
     "output_type": "stream",
     "text": [
      "[CV] .................................... , score=0.305, total=  51.6s\n",
      "GBM 0.2938393013880594\n"
     ]
    },
    {
     "name": "stderr",
     "output_type": "stream",
     "text": [
      "[Parallel(n_jobs=1)]: Done   3 out of   3 | elapsed:  2.6min remaining:    0.0s\n",
      "[Parallel(n_jobs=1)]: Done   3 out of   3 | elapsed:  2.6min finished\n"
     ]
    }
   ],
   "source": [
    "models = ['KNeighbors', 'GBM']\n",
    "scores = []\n",
    "\n",
    "for m in models:\n",
    "\n",
    "    if m == 'KNeighbors':\n",
    "        model = neighbors.KNeighborsClassifier()\n",
    "\n",
    "    elif m == 'GBM':\n",
    "        model = LGBMClassifier(random_state=42, objective='multiclass')\n",
    "        \n",
    "    score = model_selection.cross_val_score(model, X, y, scoring='accuracy', cv=skf, n_jobs=1, verbose=13).mean()\n",
    "    scores.append(score)\n",
    "    print(m, score)\n",
    "    \n",
    "# KNeighbors 0.1944638586085943\n",
    "# GBM 0.2938393013880594"
   ]
  },
  {
   "cell_type": "markdown",
   "metadata": {},
   "source": [
    "**В данном случае градиентный бустинг срабатывает лучше алгоритма ближайших соседей, но качество классификации все равно достаточно далеко от качества достигнутого в рамках стандартного подхода даже с `KNeighborsRegressor`**"
   ]
  },
  {
   "cell_type": "markdown",
   "metadata": {},
   "source": [
    "# Выводы"
   ]
  },
  {
   "cell_type": "markdown",
   "metadata": {},
   "source": [
    "- **здесь были представлены два подхода к формированию обучающей выборки: стандартный и альтернативный. Первый использует таблицу с ИНН отправителя и получателя и отраслью вместе с использованием подходов к балансированию классов `okved2` в обучающей выборке, второй - агрегирует значения суммы платежа и числа платежей вместе с другими признаками**\n",
    "- **в рамках стандартного подхода были обучены несколько моделей, среди которых наиболее интересными оказались `KNeighborsClassifier` и `LGBMClassifier`; далее алгоритм ближайших соседей, который показал наибольшую точность с параметрами по умолчанию, был переобучен с использованием GridSearch, что позволило повысить долю верных ответов до 0,809 - результаты предсказания этой модели были отправлены в csv файл**\n",
    "- **использование таких подходов как полиномиальное преобразование признаков или обучение на предсказаниях другой модели не привело к увеличению точности `KNeighborsClassifier`**\n",
    "- **тестирование моделей `KNeighborsClassifier` и `LGBMClassifier` с параметрами по умолчанию на альтернативной выборке продемонстрировало достаточно низкую точность классификации - доля верных ответов не более 0,3**\n",
    "- **в рамках стандартного подхода был обучен `LGBMClassifier` с GridSearch вместе с оценкой важности признаков с помощью библиотеки `SHAP` (*здесь не показано*). В этом случае наиболее важными признаками оказались region и hash_inn_kt (ИНН отправителя), что подтверждает изначальную гипотезу о важности признаков ИНН в обучающей выборке**"
   ]
  },
  {
   "cell_type": "markdown",
   "metadata": {},
   "source": [
    "**Выполнено: декабрь 2019**"
   ]
  }
 ],
 "metadata": {
  "hide_input": false,
  "kernelspec": {
   "display_name": "Python 3",
   "language": "python",
   "name": "python3"
  },
  "language_info": {
   "codemirror_mode": {
    "name": "ipython",
    "version": 3
   },
   "file_extension": ".py",
   "mimetype": "text/x-python",
   "name": "python",
   "nbconvert_exporter": "python",
   "pygments_lexer": "ipython3",
   "version": "3.6.8"
  },
  "toc": {
   "base_numbering": 1,
   "nav_menu": {},
   "number_sections": true,
   "sideBar": true,
   "skip_h1_title": false,
   "title_cell": "Table of Contents",
   "title_sidebar": "Contents",
   "toc_cell": false,
   "toc_position": {
    "height": "calc(100% - 180px)",
    "left": "10px",
    "top": "150px",
    "width": "348px"
   },
   "toc_section_display": true,
   "toc_window_display": true
  }
 },
 "nbformat": 4,
 "nbformat_minor": 2
}
